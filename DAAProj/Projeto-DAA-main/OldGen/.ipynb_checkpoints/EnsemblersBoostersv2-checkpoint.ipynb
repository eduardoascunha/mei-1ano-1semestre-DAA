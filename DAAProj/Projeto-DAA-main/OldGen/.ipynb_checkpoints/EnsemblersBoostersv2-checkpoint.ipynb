{
 "cells": [
  {
   "cell_type": "code",
   "execution_count": 1,
   "id": "85d5af3c-b360-40ac-b1ca-b040430bede1",
   "metadata": {},
   "outputs": [],
   "source": [
    "import pandas as pd\n",
    "import numpy as np\n",
    "import matplotlib.pyplot as plt\n",
    "import seaborn as sns\n",
    "import imblearn\n",
    "from scipy import stats\n",
    "from sklearn.preprocessing import StandardScaler"
   ]
  },
  {
   "cell_type": "code",
   "execution_count": 2,
   "id": "a4957abd-3351-470e-b871-78b5eec613fb",
   "metadata": {},
   "outputs": [
    {
     "name": "stdout",
     "output_type": "stream",
     "text": [
      "Dropped 16 non-numeric columns.\n",
      "Dropped 148 columns with the same value for every entry.\n",
      "Removed 27 outliers using Z-Score method.\n",
      "<class 'pandas.core.frame.DataFrame'>\n",
      "Index: 278 entries, 0 to 304\n",
      "Columns: 2014 entries, diagnostics_Image-original_Mean to Transition\n",
      "dtypes: float64(2013), object(1)\n",
      "memory usage: 4.3+ MB\n"
     ]
    }
   ],
   "source": [
    "# Load dataset\n",
    "radi = pd.read_csv(\"sbsppdaa24/train_radiomics_hipocamp.csv\")\n",
    "\n",
    "# Drop unique identifier columns\n",
    "radi.drop(columns=[\"Mask\", \"ID\", \"Image\"], inplace=True)\n",
    "\n",
    "# Drop non-numeric columns except for 'Transition'\n",
    "columns_to_drop = [col for col in radi.columns if radi[col].dtype == 'object' and col != 'Transition']\n",
    "radi.drop(columns=columns_to_drop, inplace=True)\n",
    "print(f\"Dropped {len(columns_to_drop)} non-numeric columns.\")\n",
    "\n",
    "# Drop columns where all entries are the same\n",
    "same_value_cols = [col for col in radi.columns if radi[col].nunique() == 1]\n",
    "radi.drop(columns=same_value_cols, inplace=True)\n",
    "print(f\"Dropped {len(same_value_cols)} columns with the same value for every entry.\")\n",
    "\n",
    "# Define the features (excluding the target variable)\n",
    "features = radi.drop(columns=['Transition'])\n",
    "\n",
    "# Calculate Z-scores for numeric features only\n",
    "z_scores = stats.zscore(features)\n",
    "\n",
    "# Set a threshold for identifying outliers\n",
    "threshold = 7\n",
    "\n",
    "# Create a mask for values with Z-scores within the threshold\n",
    "mask = (abs(z_scores) < threshold).all(axis=1)\n",
    "\n",
    "# Filter the DataFrame\n",
    "radi_no_outliers = radi[mask]\n",
    "print(f\"Removed {len(radi) - len(radi_no_outliers)} outliers using Z-Score method.\")\n",
    "\n",
    "# Final DataFrame info\n",
    "radi = radi_no_outliers.copy()\n",
    "\n",
    "\n",
    "## Normalization \n",
    "# Initialize the StandardScaler\n",
    "scaler = StandardScaler()\n",
    "# Fit the scaler on the feature columns and transform the data\n",
    "radi[features.columns] = scaler.fit_transform(radi[features.columns])\n",
    "\n",
    "# Display the final DataFrame info\n",
    "radi.info()\n"
   ]
  },
  {
   "cell_type": "code",
   "execution_count": 3,
   "id": "764516de-dd90-4e8f-8d0a-e508e0b9dfeb",
   "metadata": {},
   "outputs": [],
   "source": [
    "from sklearn.model_selection import train_test_split, GridSearchCV,StratifiedKFold\n",
    "from sklearn.ensemble import BaggingClassifier, RandomForestClassifier, GradientBoostingClassifier\n",
    "from xgboost import XGBClassifier\n",
    "from sklearn.metrics import classification_report, f1_score\n",
    "\n",
    "# Estado vai ser comum para todos os modelos, \n",
    "skf = StratifiedKFold(n_splits=5, shuffle=True, random_state=2025)\n",
    "classification_reports = {}"
   ]
  },
  {
   "cell_type": "markdown",
   "id": "97e07871-dd1b-489a-aae5-ee509069e8f1",
   "metadata": {},
   "source": [
    "## Bagging"
   ]
  },
  {
   "cell_type": "code",
   "execution_count": 4,
   "id": "27898429-69f0-4ccd-a29f-e9005376da27",
   "metadata": {},
   "outputs": [
    {
     "name": "stdout",
     "output_type": "stream",
     "text": [
      "Best Bagging Model Parameters: {'n_estimators': 500}\n",
      "Bagging Classification Report:\n",
      "               precision    recall  f1-score   support\n",
      "\n",
      "       AD-AD       0.57      0.62      0.59        13\n",
      "       CN-CN       0.59      0.87      0.70        23\n",
      "      CN-MCI       0.00      0.00      0.00         3\n",
      "      MCI-AD       0.50      0.17      0.25        18\n",
      "     MCI-MCI       0.19      0.23      0.21        13\n",
      "\n",
      "    accuracy                           0.49        70\n",
      "   macro avg       0.37      0.38      0.35        70\n",
      "weighted avg       0.46      0.49      0.44        70\n",
      "\n"
     ]
    },
    {
     "name": "stderr",
     "output_type": "stream",
     "text": [
      "/Users/nunorodrigues/miniconda3/envs/myenv/lib/python3.12/site-packages/sklearn/metrics/_classification.py:1531: UndefinedMetricWarning: Precision is ill-defined and being set to 0.0 in labels with no predicted samples. Use `zero_division` parameter to control this behavior.\n",
      "  _warn_prf(average, modifier, f\"{metric.capitalize()} is\", len(result))\n",
      "/Users/nunorodrigues/miniconda3/envs/myenv/lib/python3.12/site-packages/sklearn/metrics/_classification.py:1531: UndefinedMetricWarning: Precision is ill-defined and being set to 0.0 in labels with no predicted samples. Use `zero_division` parameter to control this behavior.\n",
      "  _warn_prf(average, modifier, f\"{metric.capitalize()} is\", len(result))\n",
      "/Users/nunorodrigues/miniconda3/envs/myenv/lib/python3.12/site-packages/sklearn/metrics/_classification.py:1531: UndefinedMetricWarning: Precision is ill-defined and being set to 0.0 in labels with no predicted samples. Use `zero_division` parameter to control this behavior.\n",
      "  _warn_prf(average, modifier, f\"{metric.capitalize()} is\", len(result))\n"
     ]
    }
   ],
   "source": [
    "# Split data into features and target\n",
    "df = radi.copy()\n",
    "X = df.drop(columns=[\"Transition\"])\n",
    "y = df[\"Transition\"]\n",
    "\n",
    "# Train-test split\n",
    "X_train, X_test, y_train, y_test = train_test_split(X, y, test_size=0.25, random_state=2025)\n",
    "\n",
    "bagging_params = {\"n_estimators\": [100, 500, 800, 1000]}\n",
    "bagging_model = BaggingClassifier(random_state=2025)\n",
    "bagging_grid = GridSearchCV(bagging_model, bagging_params, scoring='f1_weighted', cv=skf, n_jobs=-1)\n",
    "bagging_grid.fit(X_train, y_train)\n",
    "y_pred_bagging = bagging_grid.best_estimator_.predict(X_test)\n",
    "classification_reports[\"Bagging\"] = classification_report(y_test, y_pred_bagging, output_dict=True,zero_division=0)\n",
    "print(f\"Best Bagging Model Parameters: {bagging_grid.best_params_}\")\n",
    "print(f\"Bagging Classification Report:\\n\", classification_report(y_test, y_pred_bagging))"
   ]
  },
  {
   "cell_type": "markdown",
   "id": "a18a4150-9b94-4422-b7e4-cf77d7f24380",
   "metadata": {},
   "source": [
    "## Random Forest"
   ]
  },
  {
   "cell_type": "code",
   "execution_count": 5,
   "id": "18d2b434-43af-4c58-9a20-07296e14e797",
   "metadata": {},
   "outputs": [
    {
     "name": "stdout",
     "output_type": "stream",
     "text": [
      "Best RandomForest Model Parameters: {'criterion': 'gini', 'max_depth': 20, 'n_estimators': 100}\n",
      "RandomForest Classification Report:\n",
      "               precision    recall  f1-score   support\n",
      "\n",
      "       AD-AD       0.50      0.46      0.48        13\n",
      "       CN-CN       0.60      0.78      0.68        23\n",
      "      CN-MCI       0.00      0.00      0.00         3\n",
      "      MCI-AD       0.33      0.22      0.27        18\n",
      "     MCI-MCI       0.19      0.23      0.21        13\n",
      "\n",
      "    accuracy                           0.44        70\n",
      "   macro avg       0.32      0.34      0.33        70\n",
      "weighted avg       0.41      0.44      0.42        70\n",
      "\n"
     ]
    },
    {
     "name": "stderr",
     "output_type": "stream",
     "text": [
      "/Users/nunorodrigues/miniconda3/envs/myenv/lib/python3.12/site-packages/sklearn/metrics/_classification.py:1531: UndefinedMetricWarning: Precision is ill-defined and being set to 0.0 in labels with no predicted samples. Use `zero_division` parameter to control this behavior.\n",
      "  _warn_prf(average, modifier, f\"{metric.capitalize()} is\", len(result))\n",
      "/Users/nunorodrigues/miniconda3/envs/myenv/lib/python3.12/site-packages/sklearn/metrics/_classification.py:1531: UndefinedMetricWarning: Precision is ill-defined and being set to 0.0 in labels with no predicted samples. Use `zero_division` parameter to control this behavior.\n",
      "  _warn_prf(average, modifier, f\"{metric.capitalize()} is\", len(result))\n",
      "/Users/nunorodrigues/miniconda3/envs/myenv/lib/python3.12/site-packages/sklearn/metrics/_classification.py:1531: UndefinedMetricWarning: Precision is ill-defined and being set to 0.0 in labels with no predicted samples. Use `zero_division` parameter to control this behavior.\n",
      "  _warn_prf(average, modifier, f\"{metric.capitalize()} is\", len(result))\n"
     ]
    }
   ],
   "source": [
    "# Split data into features and target\n",
    "df = radi.copy()\n",
    "X = df.drop(columns=[\"Transition\"])\n",
    "y = df[\"Transition\"]\n",
    "\n",
    "# Train-test split\n",
    "X_train, X_test, y_train, y_test = train_test_split(X, y, test_size=0.25, random_state=2025)\n",
    "\n",
    "# Params Definition\n",
    "rf_params = {\"n_estimators\": [100,300,500, 800, 1000], \"max_depth\": [5, 10, 20, None],\"criterion\" :[\"gini\",\"entropy\"]}\n",
    "rf_model = RandomForestClassifier(random_state=2025)\n",
    "\n",
    "# model, params, scoring using f1, 5 folds, full processor\n",
    "rf_grid = GridSearchCV(rf_model, rf_params, scoring='f1_weighted', cv=skf, n_jobs=-1)\n",
    "rf_grid.fit(X_train, y_train)\n",
    "\n",
    "y_pred_rf = rf_grid.best_estimator_.predict(X_test)\n",
    "classification_reports[\"RandomForest\"] = classification_report(y_test, y_pred_rf, output_dict=True,zero_division=0)\n",
    "print(f\"Best RandomForest Model Parameters: {rf_grid.best_params_}\")\n",
    "print(f\"RandomForest Classification Report:\\n\", classification_report(y_test, y_pred_rf))"
   ]
  },
  {
   "cell_type": "markdown",
   "id": "6d5d9d36-9742-4b63-ab45-4474fb3e6315",
   "metadata": {},
   "source": [
    "## Gradient Boosting"
   ]
  },
  {
   "cell_type": "code",
   "execution_count": 6,
   "id": "c59c35e6-1870-49f1-a770-a091264f5fee",
   "metadata": {},
   "outputs": [
    {
     "name": "stdout",
     "output_type": "stream",
     "text": [
      "Best GradientBoosting Model Parameters: {'learning_rate': 0.3, 'n_estimators': 500}\n",
      "GradientBoosting Classification Report:\n",
      "               precision    recall  f1-score   support\n",
      "\n",
      "       AD-AD       0.64      0.69      0.67        13\n",
      "       CN-CN       0.65      0.87      0.74        23\n",
      "      CN-MCI       0.00      0.00      0.00         3\n",
      "      MCI-AD       0.47      0.39      0.42        18\n",
      "     MCI-MCI       0.20      0.15      0.17        13\n",
      "\n",
      "    accuracy                           0.54        70\n",
      "   macro avg       0.39      0.42      0.40        70\n",
      "weighted avg       0.49      0.54      0.51        70\n",
      "\n"
     ]
    },
    {
     "name": "stderr",
     "output_type": "stream",
     "text": [
      "/Users/nunorodrigues/miniconda3/envs/myenv/lib/python3.12/site-packages/sklearn/metrics/_classification.py:1531: UndefinedMetricWarning: Precision is ill-defined and being set to 0.0 in labels with no predicted samples. Use `zero_division` parameter to control this behavior.\n",
      "  _warn_prf(average, modifier, f\"{metric.capitalize()} is\", len(result))\n",
      "/Users/nunorodrigues/miniconda3/envs/myenv/lib/python3.12/site-packages/sklearn/metrics/_classification.py:1531: UndefinedMetricWarning: Precision is ill-defined and being set to 0.0 in labels with no predicted samples. Use `zero_division` parameter to control this behavior.\n",
      "  _warn_prf(average, modifier, f\"{metric.capitalize()} is\", len(result))\n",
      "/Users/nunorodrigues/miniconda3/envs/myenv/lib/python3.12/site-packages/sklearn/metrics/_classification.py:1531: UndefinedMetricWarning: Precision is ill-defined and being set to 0.0 in labels with no predicted samples. Use `zero_division` parameter to control this behavior.\n",
      "  _warn_prf(average, modifier, f\"{metric.capitalize()} is\", len(result))\n"
     ]
    }
   ],
   "source": [
    "# Split data into features and target\n",
    "df = radi.copy()\n",
    "X = df.drop(columns=[\"Transition\"]) \n",
    "y = df[\"Transition\"]\n",
    "\n",
    "# Train-test split\n",
    "X_train, X_test, y_train, y_test = train_test_split(X, y, test_size=0.25, random_state=2025)\n",
    "\n",
    "# Params Definition\n",
    "gb_params = {\"n_estimators\": [500, 600, 1000], \"learning_rate\": [0.1, 0.3,0.01]}\n",
    "gb_model = GradientBoostingClassifier(random_state=2025)\n",
    "\n",
    "# model, params, scoring using f1, 5 folds, full processor\n",
    "gb_grid = GridSearchCV(gb_model, gb_params, scoring='f1_weighted',cv=skf, n_jobs=-1)\n",
    "gb_grid.fit(X_train, y_train)\n",
    "\n",
    "y_pred_gb = gb_grid.best_estimator_.predict(X_test)\n",
    "classification_reports[\"GradientBoosting\"] = classification_report(y_test, y_pred_gb, output_dict=True,zero_division=0)\n",
    "print(f\"Best GradientBoosting Model Parameters: {gb_grid.best_params_}\")\n",
    "print(f\"GradientBoosting Classification Report:\\n\", classification_report(y_test, y_pred_gb))\n"
   ]
  },
  {
   "cell_type": "markdown",
   "id": "2258b027-c232-4e1a-aa3c-2fb834d90ac3",
   "metadata": {},
   "source": [
    "## XGBoosting"
   ]
  },
  {
   "cell_type": "code",
   "execution_count": 7,
   "id": "1253b0a5-b399-45f0-8784-57923a8b6622",
   "metadata": {},
   "outputs": [
    {
     "name": "stdout",
     "output_type": "stream",
     "text": [
      "Best XGBoost Model Parameters: {'learning_rate': 0.3, 'max_depth': 6, 'n_estimators': 500}\n",
      "XGBoost Classification Report:\n",
      "               precision    recall  f1-score   support\n",
      "\n",
      "           0       0.62      0.62      0.62        13\n",
      "           1       0.58      0.65      0.61        23\n",
      "           2       0.00      0.00      0.00         3\n",
      "           3       0.36      0.22      0.28        18\n",
      "           4       0.20      0.31      0.24        13\n",
      "\n",
      "    accuracy                           0.44        70\n",
      "   macro avg       0.35      0.36      0.35        70\n",
      "weighted avg       0.43      0.44      0.43        70\n",
      "\n"
     ]
    },
    {
     "name": "stderr",
     "output_type": "stream",
     "text": [
      "/Users/nunorodrigues/miniconda3/envs/myenv/lib/python3.12/site-packages/sklearn/metrics/_classification.py:1531: UndefinedMetricWarning: Precision is ill-defined and being set to 0.0 in labels with no predicted samples. Use `zero_division` parameter to control this behavior.\n",
      "  _warn_prf(average, modifier, f\"{metric.capitalize()} is\", len(result))\n",
      "/Users/nunorodrigues/miniconda3/envs/myenv/lib/python3.12/site-packages/sklearn/metrics/_classification.py:1531: UndefinedMetricWarning: Precision is ill-defined and being set to 0.0 in labels with no predicted samples. Use `zero_division` parameter to control this behavior.\n",
      "  _warn_prf(average, modifier, f\"{metric.capitalize()} is\", len(result))\n",
      "/Users/nunorodrigues/miniconda3/envs/myenv/lib/python3.12/site-packages/sklearn/metrics/_classification.py:1531: UndefinedMetricWarning: Precision is ill-defined and being set to 0.0 in labels with no predicted samples. Use `zero_division` parameter to control this behavior.\n",
      "  _warn_prf(average, modifier, f\"{metric.capitalize()} is\", len(result))\n"
     ]
    }
   ],
   "source": [
    "from sklearn.preprocessing import LabelEncoder\n",
    "\n",
    "# Copy the dataframe and apply label encoding to the target variable\n",
    "df = radi.copy()\n",
    "label_encoder = LabelEncoder()\n",
    "df['Transition'] = label_encoder.fit_transform(df['Transition'])\n",
    "\n",
    "# Define features and target\n",
    "X = df.drop(columns=[\"Transition\"])\n",
    "y = df[\"Transition\"]\n",
    "\n",
    "# Split into training and testing sets\n",
    "X_train, X_test, y_train, y_test = train_test_split(X, y, test_size=0.25, random_state=2025)\n",
    "\n",
    "# Define XGBoost hyperparameters and model with a multi-class objective and compatible eval_metric\n",
    "xgb_params = {\n",
    "    \"n_estimators\": [500,800,600],\n",
    "    \"learning_rate\": [0.1,0.3],\n",
    "    \"max_depth\": [5,6,8,20],\n",
    "    \n",
    "}\n",
    "\n",
    "xgb_model = XGBClassifier(eval_metric='mlogloss',random_state=2025)\n",
    "\n",
    "# Run GridSearchCV to find the best parameters\n",
    "xgb_grid = GridSearchCV(xgb_model, xgb_params, scoring='f1_weighted', cv=skf, n_jobs=-1)\n",
    "xgb_grid.fit(X_train, y_train)\n",
    "\n",
    "# Predict and evaluate\n",
    "y_pred_xgb = xgb_grid.best_estimator_.predict(X_test)\n",
    "classification_reports[\"XGBoost\"] = classification_report(y_test, y_pred_xgb, output_dict=True,zero_division=0)\n",
    "print(f\"Best XGBoost Model Parameters: {xgb_grid.best_params_}\")\n",
    "print(f\"XGBoost Classification Report:\\n\", classification_report(y_test, y_pred_xgb))\n"
   ]
  },
  {
   "cell_type": "markdown",
   "id": "d413f663-7a5a-45f9-9392-cb0e3abed130",
   "metadata": {},
   "source": [
    "## SVM"
   ]
  },
  {
   "cell_type": "code",
   "execution_count": 8,
   "id": "22c8e735-fe5f-49f2-bb27-30e507b45246",
   "metadata": {},
   "outputs": [
    {
     "name": "stdout",
     "output_type": "stream",
     "text": [
      "Fitting 5 folds for each of 24 candidates, totalling 120 fits\n",
      "Best SVM Model Parameters: {'C': 1, 'gamma': 'auto', 'kernel': 'rbf'}\n",
      "SVM Classification Report:\n",
      "               precision    recall  f1-score   support\n",
      "\n",
      "       AD-AD       0.54      0.54      0.54        13\n",
      "       CN-CN       0.57      0.87      0.69        23\n",
      "      CN-MCI       0.00      0.00      0.00         3\n",
      "      MCI-AD       0.50      0.22      0.31        18\n",
      "     MCI-MCI       0.14      0.15      0.15        13\n",
      "\n",
      "    accuracy                           0.47        70\n",
      "   macro avg       0.35      0.36      0.34        70\n",
      "weighted avg       0.44      0.47      0.43        70\n",
      "\n"
     ]
    },
    {
     "name": "stderr",
     "output_type": "stream",
     "text": [
      "/Users/nunorodrigues/miniconda3/envs/myenv/lib/python3.12/site-packages/sklearn/metrics/_classification.py:1531: UndefinedMetricWarning: Precision is ill-defined and being set to 0.0 in labels with no predicted samples. Use `zero_division` parameter to control this behavior.\n",
      "  _warn_prf(average, modifier, f\"{metric.capitalize()} is\", len(result))\n",
      "/Users/nunorodrigues/miniconda3/envs/myenv/lib/python3.12/site-packages/sklearn/metrics/_classification.py:1531: UndefinedMetricWarning: Precision is ill-defined and being set to 0.0 in labels with no predicted samples. Use `zero_division` parameter to control this behavior.\n",
      "  _warn_prf(average, modifier, f\"{metric.capitalize()} is\", len(result))\n",
      "/Users/nunorodrigues/miniconda3/envs/myenv/lib/python3.12/site-packages/sklearn/metrics/_classification.py:1531: UndefinedMetricWarning: Precision is ill-defined and being set to 0.0 in labels with no predicted samples. Use `zero_division` parameter to control this behavior.\n",
      "  _warn_prf(average, modifier, f\"{metric.capitalize()} is\", len(result))\n"
     ]
    }
   ],
   "source": [
    "from sklearn.svm import SVC\n",
    "\n",
    "df = radi.copy()\n",
    "X = df.drop(columns=[\"Transition\"]) \n",
    "y = df[\"Transition\"]\n",
    "\n",
    "# Train-test split\n",
    "X_train, X_test, y_train, y_test = train_test_split(X, y, test_size=0.25, random_state=2025)\n",
    "\n",
    "# Define the parameter grid for SVC\n",
    "param_grid = {\n",
    "    'C': [0.1, 1, 10, 100],              # Regularization parameter\n",
    "    'kernel': ['linear', 'rbf', 'poly'],  # Kernel types\n",
    "    'gamma': ['scale', 'auto'],           # Kernel coefficient for 'rbf' and 'poly' kernels\n",
    "}\n",
    "\n",
    "# Initialize the SVC model\n",
    "svm_model = SVC(random_state=2025)\n",
    "\n",
    "svm_grid = GridSearchCV(estimator=svm_model, param_grid=param_grid, \n",
    "                           cv=5, scoring='f1_weighted', verbose=1, n_jobs=-1)\n",
    "\n",
    "svm_grid.fit(X_train, y_train)\n",
    "y_pred_svm = svm_grid.best_estimator_.predict(X_test)\n",
    "classification_reports[\"SVM\"] = classification_report(y_test, y_pred_svm, output_dict=True,zero_division=0)\n",
    "print(f\"Best SVM Model Parameters: {svm_grid.best_params_}\")\n",
    "print(f\"SVM Classification Report:\\n\", classification_report(y_test, y_pred_svm))"
   ]
  },
  {
   "cell_type": "markdown",
   "id": "310db9ef-1d6d-490b-bf85-9e29eeef0567",
   "metadata": {},
   "source": [
    "## Stacking"
   ]
  },
  {
   "cell_type": "code",
   "execution_count": 9,
   "id": "163d2b1a-50d4-4a5c-aee3-66b8d33bd2c3",
   "metadata": {},
   "outputs": [
    {
     "name": "stdout",
     "output_type": "stream",
     "text": [
      "Stacking Classification Report:\n",
      "               precision    recall  f1-score   support\n",
      "\n",
      "       AD-AD       0.53      0.62      0.57        13\n",
      "       CN-CN       0.58      0.83      0.68        23\n",
      "      CN-MCI       0.00      0.00      0.00         3\n",
      "      MCI-AD       0.60      0.33      0.43        18\n",
      "     MCI-MCI       0.09      0.08      0.08        13\n",
      "\n",
      "    accuracy                           0.49        70\n",
      "   macro avg       0.36      0.37      0.35        70\n",
      "weighted avg       0.46      0.49      0.45        70\n",
      "\n"
     ]
    }
   ],
   "source": [
    "from sklearn.ensemble import StackingClassifier\n",
    "from sklearn.linear_model import LogisticRegression\n",
    "\n",
    "df = radi.copy()\n",
    "X = df.drop(columns=[\"Transition\"]) \n",
    "y = df[\"Transition\"]\n",
    "\n",
    "# Train-test split\n",
    "X_train, X_test, y_train, y_test = train_test_split(X, y, test_size=0.25, random_state=2025)\n",
    "\n",
    "meta_model = RandomForestClassifier(random_state=25)\n",
    "\n",
    "estimators = [(\"gb\", gb_grid.best_estimator_), (\"svm\", svm_grid.best_estimator_), (\"rf\", rf_grid.best_estimator_)]\n",
    "st_model = StackingClassifier(estimators=estimators, final_estimator = meta_model) \n",
    "st_model.fit(X_train, y_train)\n",
    "st_predictions = st_model.predict(X_test)\n",
    "classification_reports[\"Stacking\"] = classification_report(y_test, st_predictions, output_dict=True,zero_division=0)\n",
    "print(f\"Stacking Classification Report:\\n\", classification_report(y_test, st_predictions))"
   ]
  },
  {
   "cell_type": "markdown",
   "id": "b82b9c85-0155-4b27-b113-99b13f759c31",
   "metadata": {},
   "source": [
    "## Max Voting"
   ]
  },
  {
   "cell_type": "code",
   "execution_count": 10,
   "id": "9c8c0c79-14ed-4b55-bb83-aa483300c35a",
   "metadata": {},
   "outputs": [
    {
     "name": "stdout",
     "output_type": "stream",
     "text": [
      "Voting Classification Report:\n",
      "               precision    recall  f1-score   support\n",
      "\n",
      "       AD-AD       0.53      0.62      0.57        13\n",
      "       CN-CN       0.58      0.83      0.68        23\n",
      "      CN-MCI       0.00      0.00      0.00         3\n",
      "      MCI-AD       0.60      0.33      0.43        18\n",
      "     MCI-MCI       0.09      0.08      0.08        13\n",
      "\n",
      "    accuracy                           0.49        70\n",
      "   macro avg       0.36      0.37      0.35        70\n",
      "weighted avg       0.46      0.49      0.45        70\n",
      "\n"
     ]
    }
   ],
   "source": [
    "from sklearn.ensemble import VotingClassifier\n",
    "\n",
    "df = radi.copy()\n",
    "X = df.drop(columns=[\"Transition\"]) \n",
    "y = df[\"Transition\"]\n",
    "\n",
    "# Train-test split\n",
    "X_train, X_test, y_train, y_test = train_test_split(X, y, test_size=0.25, random_state=2025)\n",
    "\n",
    "\n",
    "estimators = [(\"gb\", gb_grid.best_estimator_), (\"svm\", svm_grid.best_estimator_), (\"rf\", rf_grid.best_estimator_)]\n",
    "vt_model = VotingClassifier(estimators=estimators, voting = 'hard', weights = [3,2,1]) \n",
    "vt_model.fit(X_train, y_train)\n",
    "vt_predictions = vt_model.predict(X_test)\n",
    "classification_reports[\"Voting\"] = classification_report(y_test, vt_predictions, output_dict=True,zero_division=0)\n",
    "print(f\"Voting Classification Report:\\n\", classification_report(y_test, st_predictions))"
   ]
  },
  {
   "cell_type": "markdown",
   "id": "582cf1f4-e743-42b9-822f-b267c01e39ef",
   "metadata": {},
   "source": [
    "## Ver Resultados"
   ]
  },
  {
   "cell_type": "code",
   "execution_count": 11,
   "id": "31dedfa6-8434-48b1-97ee-1c9720974b5c",
   "metadata": {},
   "outputs": [
    {
     "data": {
      "image/png": "[encoded data removed]",
      "text/plain": [
       "<Figure size 2000x800 with 1 Axes>"
      ]
     },
     "metadata": {},
     "output_type": "display_data"
    }
   ],
   "source": [
    "import matplotlib.pyplot as plt\n",
    "\n",
    "# Assuming f1_scores is already defined\n",
    "f1_scores = {model: report[\"weighted avg\"][\"f1-score\"] for model, report in classification_reports.items()}\n",
    "\n",
    "# Plotting\n",
    "plt.figure(figsize=(20, 8))\n",
    "\n",
    "# F1 Score Graph\n",
    "plt.subplot(1, 2, 1)\n",
    "bars = plt.bar(f1_scores.keys(), f1_scores.values(), color='skyblue')\n",
    "plt.xlabel(\"Model\")\n",
    "plt.ylabel(\"F1 Score\")\n",
    "plt.title(\"Model Comparison - F1 Scores\")\n",
    "plt.ylim(0, 0.6)\n",
    "\n",
    "# Display values on top of each bar\n",
    "for bar in bars:\n",
    "    yval = bar.get_height()\n",
    "    plt.text(bar.get_x() + bar.get_width()/2, yval + 0.01, f'{yval:.2f}', ha='center', va='bottom', fontsize=10)\n",
    "\n",
    "plt.tight_layout()\n",
    "plt.show()\n"
   ]
  },
  {
   "cell_type": "code",
   "execution_count": 12,
   "id": "61ce0b20-6526-4040-96a2-adbffb3aaf75",
   "metadata": {},
   "outputs": [
    {
     "data": {
      "image/png": "[encoded data removed]",
      "text/plain": [
       "<Figure size 2000x800 with 1 Axes>"
      ]
     },
     "metadata": {},
     "output_type": "display_data"
    }
   ],
   "source": [
    "accuracies = {model: report[\"accuracy\"] for model, report in classification_reports.items()}\n",
    "\n",
    "# Accuracy Graph\n",
    "plt.figure(figsize=(20, 8))\n",
    "plt.subplot(1, 2, 2)\n",
    "bars = plt.bar(accuracies.keys(), accuracies.values(), color='salmon')\n",
    "plt.xlabel(\"Model\")\n",
    "plt.ylabel(\"Accuracy\")\n",
    "plt.title(\"Model Comparison - Accuracy\")\n",
    "plt.ylim(0, 0.6)\n",
    "\n",
    "\n",
    "# Display values on top of each bar\n",
    "for bar in bars:\n",
    "    yval = bar.get_height()\n",
    "    plt.text(bar.get_x() + bar.get_width()/2, yval + 0.01, f'{yval:.2f}', ha='center', va='bottom', fontsize=10)\n",
    "\n",
    "plt.tight_layout()\n",
    "plt.show()"
   ]
  },
  {
   "cell_type": "markdown",
   "id": "b46ee5db-1e29-4bf6-a633-c1aa353eaffc",
   "metadata": {},
   "source": [
    "## Generating csv"
   ]
  },
  {
   "cell_type": "code",
   "execution_count": 20,
   "id": "3f5ef06f-d585-4137-9c63-098fde399089",
   "metadata": {},
   "outputs": [
    {
     "ename": "AttributeError",
     "evalue": "'GridSearchCV' object has no attribute 'best_estimator_'",
     "output_type": "error",
     "traceback": [
      "\u001b[0;31m---------------------------------------------------------------------------\u001b[0m",
      "\u001b[0;31mAttributeError\u001b[0m                            Traceback (most recent call last)",
      "Cell \u001b[0;32mIn[20], line 15\u001b[0m\n\u001b[1;32m     12\u001b[0m bg_predictions_test \u001b[38;5;241m=\u001b[39m bagging_grid\u001b[38;5;241m.\u001b[39mbest_estimator_\u001b[38;5;241m.\u001b[39mpredict(test_data)\n\u001b[1;32m     14\u001b[0m \u001b[38;5;66;03m# Generate predictions using the RandomForest model\u001b[39;00m\n\u001b[0;32m---> 15\u001b[0m rf_predictions_test \u001b[38;5;241m=\u001b[39m rf_grid\u001b[38;5;241m.\u001b[39mbest_estimator_\u001b[38;5;241m.\u001b[39mpredict(test_data)\n\u001b[1;32m     17\u001b[0m \u001b[38;5;66;03m# Generate predictions using the Gradient Boosting model\u001b[39;00m\n\u001b[1;32m     18\u001b[0m gb_predictions_test \u001b[38;5;241m=\u001b[39m gb_grid\u001b[38;5;241m.\u001b[39mbest_estimator_\u001b[38;5;241m.\u001b[39mpredict(test_data)\n",
      "\u001b[0;31mAttributeError\u001b[0m: 'GridSearchCV' object has no attribute 'best_estimator_'"
     ]
    }
   ],
   "source": [
    "# Load the test dataset\n",
    "test_data = pd.read_csv(\"sbsppdaa24/test_radiomics_hipocamp.csv\")\n",
    "\n",
    "# Apply the same preprocessing as in the training phase\n",
    "# Drop unused columns to match the training features\n",
    "test_data = test_data[features.columns]\n",
    "\n",
    "# Apply the previously fitted scaler to the test data\n",
    "test_data[features.columns] = scaler.transform(test_data[features.columns])\n",
    "\n",
    "# Generate predictions using the Bagging model\n",
    "bg_predictions_test = bagging_grid.best_estimator_.predict(test_data)\n",
    "\n",
    "# Generate predictions using the RandomForest model\n",
    "rf_predictions_test = rf_grid.best_estimator_.predict(test_data)\n",
    "\n",
    "# Generate predictions using the Gradient Boosting model\n",
    "gb_predictions_test = gb_grid.best_estimator_.predict(test_data)\n",
    "\n",
    "# Generate predictions using the Voting model\n",
    "vb_predictions_test = vt_model.predict(test_data)\n",
    "\n",
    "# Store each model's predictions in separate DataFrames and save to CSV\n",
    "res0 = pd.DataFrame({\n",
    "    'RowId': range(1, len(bg_predictions_test) + 1),\n",
    "    'Result': bg_predictions_test \n",
    "})\n",
    "res0.to_csv('BaggingGrid2.0.csv', index=False)\n",
    "\n",
    "res1 = pd.DataFrame({\n",
    "    'RowId': range(1, len(rf_predictions_test) + 1),\n",
    "    'Result': rf_predictions_test\n",
    "})\n",
    "res1.to_csv('RandomForestGrid2.0.csv', index=False)\n",
    "\n",
    "res2 = pd.DataFrame({\n",
    "    'RowId': range(1, len(gb_predictions_test) + 1),\n",
    "    'Result': gb_predictions_test\n",
    "})\n",
    "res2.to_csv('GradientBoostingGrid2.0.csv', index=False)\n",
    "\n",
    "res3 = pd.DataFrame({\n",
    "    'RowId': range(1, len(vb_predictions_test) + 1),\n",
    "    'Result': vb_predictions_test\n",
    "})\n",
    "res3.to_csv('Voting2.0.csv', index=False)\n"
   ]
  },
  {
   "cell_type": "code",
   "execution_count": null,
   "id": "3748da0e-e79f-46ee-b9e1-4e483d5efb7e",
   "metadata": {},
   "outputs": [],
   "source": []
  }
 ],
 "metadata": {
  "kernelspec": {
   "display_name": "Python 3 (ipykernel)",
   "language": "python",
   "name": "python3"
  },
  "language_info": {
   "codemirror_mode": {
    "name": "ipython",
    "version": 3
   },
   "file_extension": ".py",
   "mimetype": "text/x-python",
   "name": "python",
   "nbconvert_exporter": "python",
   "pygments_lexer": "ipython3",
   "version": "3.12.2"
  }
 },
 "nbformat": 4,
 "nbformat_minor": 5
}
