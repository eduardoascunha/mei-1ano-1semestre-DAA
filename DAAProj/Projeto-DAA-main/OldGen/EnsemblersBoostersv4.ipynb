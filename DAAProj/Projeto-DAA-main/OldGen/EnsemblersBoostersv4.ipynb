{
 "cells": [
  {
   "cell_type": "code",
   "execution_count": 1,
   "id": "85d5af3c-b360-40ac-b1ca-b040430bede1",
   "metadata": {},
   "outputs": [],
   "source": [
    "import pandas as pd\n",
    "import numpy as np\n",
    "import matplotlib.pyplot as plt\n",
    "import seaborn as sns\n",
    "import imblearn\n",
    "from scipy import stats\n",
    "from sklearn.preprocessing import MinMaxScaler\n"
   ]
  },
  {
   "cell_type": "code",
   "execution_count": 2,
   "id": "a4957abd-3351-470e-b871-78b5eec613fb",
   "metadata": {},
   "outputs": [
    {
     "name": "stdout",
     "output_type": "stream",
     "text": [
      "Dropped 16 non-numeric columns.\n",
      "Dropped 148 columns with the same value for every entry.\n",
      "Reduced features from 2014 to 689\n",
      "<class 'pandas.core.frame.DataFrame'>\n",
      "RangeIndex: 305 entries, 0 to 304\n",
      "Columns: 689 entries, diagnostics_Image-original_Mean to Transition\n",
      "dtypes: float64(688), object(1)\n",
      "memory usage: 1.6+ MB\n"
     ]
    }
   ],
   "source": [
    "# Load dataset\n",
    "radi = pd.read_csv(\"sbsppdaa24/train_radiomics_hipocamp.csv\")\n",
    "\n",
    "# Drop unique identifier columns\n",
    "radi.drop(columns=[\"Mask\", \"ID\", \"Image\"], inplace=True)\n",
    "\n",
    "# Drop non-numeric columns except for 'Transition'\n",
    "columns_to_drop = [col for col in radi.columns if radi[col].dtype == 'object' and col != 'Transition']\n",
    "radi.drop(columns=columns_to_drop, inplace=True)\n",
    "print(f\"Dropped {len(columns_to_drop)} non-numeric columns.\")\n",
    "\n",
    "# Drop columns where all entries are the same\n",
    "same_value_cols = [col for col in radi.columns if radi[col].nunique() == 1]\n",
    "radi.drop(columns=same_value_cols, inplace=True)\n",
    "print(f\"Dropped {len(same_value_cols)} columns with the same value for every entry.\")\n",
    "\n",
    "# Apply MinMax scaling to float columns\n",
    "float_cols = radi.select_dtypes(include=['float','int']).columns\n",
    "scaler = MinMaxScaler()\n",
    "radi[float_cols] = scaler.fit_transform(radi[float_cols])\n",
    "\n",
    "# Compute correlation matrix\n",
    "corr_matrix = radi.drop([\"Transition\"],axis=1).corr().abs()\n",
    "\n",
    "# Select upper triangle of correlation matrix to avoid duplicate pairs\n",
    "upper = corr_matrix.where(~np.tril(np.ones(corr_matrix.shape)).astype(bool))\n",
    "\n",
    "# Find features with correlation above the threshold (e.g., 0.9)\n",
    "to_drop = [column for column in upper.columns if any(upper[column] > 0.9)]\n",
    "\n",
    "# Drop the highly correlated features directly from 'radi'\n",
    "initial_feature_count = radi.shape[1]\n",
    "radi.drop(columns=to_drop, inplace=True)\n",
    "final_feature_count = radi.shape[1]\n",
    "\n",
    "print(f\"Reduced features from {initial_feature_count} to {final_feature_count}\")\n",
    "radi.info()"
   ]
  },
  {
   "cell_type": "code",
   "execution_count": 3,
   "id": "764516de-dd90-4e8f-8d0a-e508e0b9dfeb",
   "metadata": {},
   "outputs": [],
   "source": [
    "from sklearn.experimental import enable_halving_search_cv\n",
    "from sklearn.model_selection import train_test_split, GridSearchCV,StratifiedKFold\n",
    "from sklearn.ensemble import BaggingClassifier, RandomForestClassifier, GradientBoostingClassifier\n",
    "from xgboost import XGBClassifier\n",
    "from sklearn.metrics import classification_report, f1_score\n",
    "\n",
    "\n",
    "# Estado vai ser comum para todos os modelos, \n",
    "skf = StratifiedKFold(n_splits=5, shuffle=True, random_state=2025)\n",
    "classification_reports = {}"
   ]
  },
  {
   "cell_type": "markdown",
   "id": "97e07871-dd1b-489a-aae5-ee509069e8f1",
   "metadata": {},
   "source": [
    "## Bagging"
   ]
  },
  {
   "cell_type": "code",
   "execution_count": 4,
   "id": "27898429-69f0-4ccd-a29f-e9005376da27",
   "metadata": {},
   "outputs": [
    {
     "name": "stdout",
     "output_type": "stream",
     "text": [
      "Fitting 5 folds for each of 6 candidates, totalling 30 fits\n",
      "Best Bagging Model Parameters: {'n_estimators': 500}\n",
      "Bagging Classification Report:\n",
      "               precision    recall  f1-score   support\n",
      "\n",
      "       AD-AD       0.86      0.43      0.57        14\n",
      "       CN-CN       0.54      0.77      0.63        26\n",
      "      CN-MCI       0.00      0.00      0.00         1\n",
      "      MCI-AD       0.32      0.43      0.36        14\n",
      "     MCI-MCI       0.36      0.23      0.28        22\n",
      "\n",
      "    accuracy                           0.48        77\n",
      "   macro avg       0.41      0.37      0.37        77\n",
      "weighted avg       0.50      0.48      0.46        77\n",
      "\n"
     ]
    },
    {
     "name": "stderr",
     "output_type": "stream",
     "text": [
      "/Users/nunorodrigues/miniconda3/envs/myenv/lib/python3.12/site-packages/sklearn/metrics/_classification.py:1531: UndefinedMetricWarning: Precision is ill-defined and being set to 0.0 in labels with no predicted samples. Use `zero_division` parameter to control this behavior.\n",
      "  _warn_prf(average, modifier, f\"{metric.capitalize()} is\", len(result))\n",
      "/Users/nunorodrigues/miniconda3/envs/myenv/lib/python3.12/site-packages/sklearn/metrics/_classification.py:1531: UndefinedMetricWarning: Precision is ill-defined and being set to 0.0 in labels with no predicted samples. Use `zero_division` parameter to control this behavior.\n",
      "  _warn_prf(average, modifier, f\"{metric.capitalize()} is\", len(result))\n",
      "/Users/nunorodrigues/miniconda3/envs/myenv/lib/python3.12/site-packages/sklearn/metrics/_classification.py:1531: UndefinedMetricWarning: Precision is ill-defined and being set to 0.0 in labels with no predicted samples. Use `zero_division` parameter to control this behavior.\n",
      "  _warn_prf(average, modifier, f\"{metric.capitalize()} is\", len(result))\n"
     ]
    }
   ],
   "source": [
    "# Split data into features and target\n",
    "df = radi.copy()\n",
    "X = df.drop(columns=[\"Transition\"])\n",
    "y = df[\"Transition\"]\n",
    "\n",
    "# Train-test split\n",
    "X_train, X_test, y_train, y_test = train_test_split(X, y, test_size=0.25, random_state=2025)\n",
    "\n",
    "bagging_params = {\"n_estimators\": [100,150,300, 500, 800, 1000]}\n",
    "bagging_model = BaggingClassifier(random_state=2025)\n",
    "bagging_grid = GridSearchCV(bagging_model, bagging_params, scoring='f1_weighted', cv=skf, n_jobs=-1,verbose=3)\n",
    "bagging_grid.fit(X_train, y_train)\n",
    "y_pred_bagging = bagging_grid.best_estimator_.predict(X_test)\n",
    "classification_reports[\"Bagging\"] = classification_report(y_test, y_pred_bagging, output_dict=True,zero_division=0)\n",
    "print(f\"Best Bagging Model Parameters: {bagging_grid.best_params_}\")\n",
    "print(f\"Bagging Classification Report:\\n\", classification_report(y_test, y_pred_bagging))"
   ]
  },
  {
   "cell_type": "markdown",
   "id": "a18a4150-9b94-4422-b7e4-cf77d7f24380",
   "metadata": {},
   "source": [
    "## Random Forest"
   ]
  },
  {
   "cell_type": "code",
   "execution_count": 5,
   "id": "18d2b434-43af-4c58-9a20-07296e14e797",
   "metadata": {},
   "outputs": [
    {
     "name": "stdout",
     "output_type": "stream",
     "text": [
      "Best RandomForest Model Parameters: {'criterion': 'gini', 'max_depth': 10, 'n_estimators': 100}\n",
      "RandomForest Classification Report:\n",
      "               precision    recall  f1-score   support\n",
      "\n",
      "       AD-AD       0.50      0.29      0.36        14\n",
      "       CN-CN       0.51      0.73      0.60        26\n",
      "      CN-MCI       0.00      0.00      0.00         1\n",
      "      MCI-AD       0.20      0.21      0.21        14\n",
      "     MCI-MCI       0.41      0.32      0.36        22\n",
      "\n",
      "    accuracy                           0.43        77\n",
      "   macro avg       0.33      0.31      0.31        77\n",
      "weighted avg       0.42      0.43      0.41        77\n",
      "\n"
     ]
    },
    {
     "name": "stderr",
     "output_type": "stream",
     "text": [
      "/Users/nunorodrigues/miniconda3/envs/myenv/lib/python3.12/site-packages/sklearn/metrics/_classification.py:1531: UndefinedMetricWarning: Precision is ill-defined and being set to 0.0 in labels with no predicted samples. Use `zero_division` parameter to control this behavior.\n",
      "  _warn_prf(average, modifier, f\"{metric.capitalize()} is\", len(result))\n",
      "/Users/nunorodrigues/miniconda3/envs/myenv/lib/python3.12/site-packages/sklearn/metrics/_classification.py:1531: UndefinedMetricWarning: Precision is ill-defined and being set to 0.0 in labels with no predicted samples. Use `zero_division` parameter to control this behavior.\n",
      "  _warn_prf(average, modifier, f\"{metric.capitalize()} is\", len(result))\n",
      "/Users/nunorodrigues/miniconda3/envs/myenv/lib/python3.12/site-packages/sklearn/metrics/_classification.py:1531: UndefinedMetricWarning: Precision is ill-defined and being set to 0.0 in labels with no predicted samples. Use `zero_division` parameter to control this behavior.\n",
      "  _warn_prf(average, modifier, f\"{metric.capitalize()} is\", len(result))\n"
     ]
    }
   ],
   "source": [
    "# Split data into features and target\n",
    "df = radi.copy()\n",
    "X = df.drop(columns=[\"Transition\"])\n",
    "y = df[\"Transition\"]\n",
    "\n",
    "# Train-test split\n",
    "X_train, X_test, y_train, y_test = train_test_split(X, y, test_size=0.25, random_state=2025)\n",
    "\n",
    "# Params Definition\n",
    "rf_params = {\"n_estimators\": [100,300,500, 800, 1000], \"max_depth\": [5, 10, 20, None],\"criterion\" :[\"gini\",\"entropy\"]}\n",
    "rf_model = RandomForestClassifier(random_state=2025)\n",
    "\n",
    "# model, params, scoring using f1, 5 folds, full processor\n",
    "rf_grid = GridSearchCV(rf_model, rf_params, scoring='f1_weighted', cv=skf, n_jobs=-1)\n",
    "rf_grid.fit(X_train, y_train)\n",
    "\n",
    "y_pred_rf = rf_grid.best_estimator_.predict(X_test)\n",
    "classification_reports[\"RandomForest\"] = classification_report(y_test, y_pred_rf, output_dict=True,zero_division=0)\n",
    "print(f\"Best RandomForest Model Parameters: {rf_grid.best_params_}\")\n",
    "print(f\"RandomForest Classification Report:\\n\", classification_report(y_test, y_pred_rf))"
   ]
  },
  {
   "cell_type": "markdown",
   "id": "6d5d9d36-9742-4b63-ab45-4474fb3e6315",
   "metadata": {},
   "source": [
    "## Gradient Boosting"
   ]
  },
  {
   "cell_type": "code",
   "execution_count": 6,
   "id": "c59c35e6-1870-49f1-a770-a091264f5fee",
   "metadata": {},
   "outputs": [
    {
     "name": "stdout",
     "output_type": "stream",
     "text": [
      "Best GradientBoosting Model Parameters: {'learning_rate': 0.01, 'n_estimators': 500}\n",
      "GradientBoosting Classification Report:\n",
      "               precision    recall  f1-score   support\n",
      "\n",
      "       AD-AD       0.38      0.36      0.37        14\n",
      "       CN-CN       0.53      0.65      0.59        26\n",
      "      CN-MCI       0.00      0.00      0.00         1\n",
      "      MCI-AD       0.17      0.14      0.15        14\n",
      "     MCI-MCI       0.32      0.27      0.29        22\n",
      "\n",
      "    accuracy                           0.39        77\n",
      "   macro avg       0.28      0.29      0.28        77\n",
      "weighted avg       0.37      0.39      0.38        77\n",
      "\n"
     ]
    }
   ],
   "source": [
    "# Split data into features and target\n",
    "df = radi.copy()\n",
    "X = df.drop(columns=[\"Transition\"]) \n",
    "y = df[\"Transition\"]\n",
    "\n",
    "# Train-test split\n",
    "X_train, X_test, y_train, y_test = train_test_split(X, y, test_size=0.25, random_state=2025)\n",
    "\n",
    "# Params Definition\n",
    "gb_params = {\"n_estimators\": [500, 600, 1000], \"learning_rate\": [0.1, 0.3,0.01]}\n",
    "gb_model = GradientBoostingClassifier(random_state=2025)\n",
    "\n",
    "# model, params, scoring using f1, 5 folds, full processor\n",
    "gb_grid = GridSearchCV(gb_model, gb_params, scoring='f1_weighted',cv=skf, n_jobs=-1)\n",
    "gb_grid.fit(X_train, y_train)\n",
    "\n",
    "y_pred_gb = gb_grid.best_estimator_.predict(X_test)\n",
    "classification_reports[\"GradientBoosting\"] = classification_report(y_test, y_pred_gb, output_dict=True,zero_division=0)\n",
    "print(f\"Best GradientBoosting Model Parameters: {gb_grid.best_params_}\")\n",
    "print(f\"GradientBoosting Classification Report:\\n\", classification_report(y_test, y_pred_gb))\n"
   ]
  },
  {
   "cell_type": "markdown",
   "id": "2258b027-c232-4e1a-aa3c-2fb834d90ac3",
   "metadata": {},
   "source": [
    "## XGBoosting"
   ]
  },
  {
   "cell_type": "code",
   "execution_count": 7,
   "id": "1253b0a5-b399-45f0-8784-57923a8b6622",
   "metadata": {},
   "outputs": [
    {
     "name": "stdout",
     "output_type": "stream",
     "text": [
      "Best XGBoost Model Parameters: {'learning_rate': 0.3, 'max_depth': 5, 'n_estimators': 500}\n",
      "XGBoost Classification Report:\n",
      "               precision    recall  f1-score   support\n",
      "\n",
      "           0       0.46      0.43      0.44        14\n",
      "           1       0.51      0.69      0.59        26\n",
      "           2       0.00      0.00      0.00         1\n",
      "           3       0.20      0.21      0.21        14\n",
      "           4       0.43      0.27      0.33        22\n",
      "\n",
      "    accuracy                           0.43        77\n",
      "   macro avg       0.32      0.32      0.31        77\n",
      "weighted avg       0.42      0.43      0.41        77\n",
      "\n"
     ]
    },
    {
     "name": "stderr",
     "output_type": "stream",
     "text": [
      "/Users/nunorodrigues/miniconda3/envs/myenv/lib/python3.12/site-packages/sklearn/metrics/_classification.py:1531: UndefinedMetricWarning: Precision is ill-defined and being set to 0.0 in labels with no predicted samples. Use `zero_division` parameter to control this behavior.\n",
      "  _warn_prf(average, modifier, f\"{metric.capitalize()} is\", len(result))\n",
      "/Users/nunorodrigues/miniconda3/envs/myenv/lib/python3.12/site-packages/sklearn/metrics/_classification.py:1531: UndefinedMetricWarning: Precision is ill-defined and being set to 0.0 in labels with no predicted samples. Use `zero_division` parameter to control this behavior.\n",
      "  _warn_prf(average, modifier, f\"{metric.capitalize()} is\", len(result))\n",
      "/Users/nunorodrigues/miniconda3/envs/myenv/lib/python3.12/site-packages/sklearn/metrics/_classification.py:1531: UndefinedMetricWarning: Precision is ill-defined and being set to 0.0 in labels with no predicted samples. Use `zero_division` parameter to control this behavior.\n",
      "  _warn_prf(average, modifier, f\"{metric.capitalize()} is\", len(result))\n"
     ]
    }
   ],
   "source": [
    "from sklearn.preprocessing import LabelEncoder\n",
    "\n",
    "# Copy the dataframe and apply label encoding to the target variable\n",
    "df = radi.copy()\n",
    "label_encoder = LabelEncoder()\n",
    "df['Transition'] = label_encoder.fit_transform(df['Transition'])\n",
    "\n",
    "# Define features and target\n",
    "X = df.drop(columns=[\"Transition\"])\n",
    "y = df[\"Transition\"]\n",
    "\n",
    "# Split into training and testing sets\n",
    "X_train, X_test, y_train, y_test = train_test_split(X, y, test_size=0.25, random_state=2025)\n",
    "\n",
    "# Define XGBoost hyperparameters and model with a multi-class objective and compatible eval_metric\n",
    "xgb_params = {\n",
    "    \"n_estimators\": [500,1000,600],\n",
    "    \"learning_rate\": [0.1,0.3],\n",
    "    \"max_depth\": [5,6,8,20],\n",
    "    \n",
    "}\n",
    "\n",
    "xgb_model = XGBClassifier(eval_metric='mlogloss',random_state=2025)\n",
    "\n",
    "# Run GridSearchCV to find the best parameters\n",
    "xgb_grid = GridSearchCV(xgb_model, xgb_params, scoring='f1_weighted', cv=skf, n_jobs=-1)\n",
    "xgb_grid.fit(X_train, y_train)\n",
    "\n",
    "# Predict and evaluate\n",
    "y_pred_xgb = xgb_grid.best_estimator_.predict(X_test)\n",
    "classification_reports[\"XGBoost\"] = classification_report(y_test, y_pred_xgb, output_dict=True,zero_division=0)\n",
    "print(f\"Best XGBoost Model Parameters: {xgb_grid.best_params_}\")\n",
    "print(f\"XGBoost Classification Report:\\n\", classification_report(y_test, y_pred_xgb))\n"
   ]
  },
  {
   "cell_type": "markdown",
   "id": "d413f663-7a5a-45f9-9392-cb0e3abed130",
   "metadata": {},
   "source": [
    "## SVM"
   ]
  },
  {
   "cell_type": "code",
   "execution_count": 8,
   "id": "22c8e735-fe5f-49f2-bb27-30e507b45246",
   "metadata": {},
   "outputs": [
    {
     "name": "stdout",
     "output_type": "stream",
     "text": [
      "Fitting 5 folds for each of 24 candidates, totalling 120 fits\n",
      "Best SVM Model Parameters: {'C': 10, 'gamma': 'auto', 'kernel': 'rbf'}\n",
      "SVM Classification Report:\n",
      "               precision    recall  f1-score   support\n",
      "\n",
      "       AD-AD       0.43      0.21      0.29        14\n",
      "       CN-CN       0.52      0.85      0.65        26\n",
      "      CN-MCI       0.00      0.00      0.00         1\n",
      "      MCI-AD       0.32      0.43      0.36        14\n",
      "     MCI-MCI       0.44      0.18      0.26        22\n",
      "\n",
      "    accuracy                           0.45        77\n",
      "   macro avg       0.34      0.33      0.31        77\n",
      "weighted avg       0.44      0.45      0.41        77\n",
      "\n"
     ]
    },
    {
     "name": "stderr",
     "output_type": "stream",
     "text": [
      "/Users/nunorodrigues/miniconda3/envs/myenv/lib/python3.12/site-packages/sklearn/metrics/_classification.py:1531: UndefinedMetricWarning: Precision is ill-defined and being set to 0.0 in labels with no predicted samples. Use `zero_division` parameter to control this behavior.\n",
      "  _warn_prf(average, modifier, f\"{metric.capitalize()} is\", len(result))\n",
      "/Users/nunorodrigues/miniconda3/envs/myenv/lib/python3.12/site-packages/sklearn/metrics/_classification.py:1531: UndefinedMetricWarning: Precision is ill-defined and being set to 0.0 in labels with no predicted samples. Use `zero_division` parameter to control this behavior.\n",
      "  _warn_prf(average, modifier, f\"{metric.capitalize()} is\", len(result))\n",
      "/Users/nunorodrigues/miniconda3/envs/myenv/lib/python3.12/site-packages/sklearn/metrics/_classification.py:1531: UndefinedMetricWarning: Precision is ill-defined and being set to 0.0 in labels with no predicted samples. Use `zero_division` parameter to control this behavior.\n",
      "  _warn_prf(average, modifier, f\"{metric.capitalize()} is\", len(result))\n"
     ]
    }
   ],
   "source": [
    "from sklearn.svm import SVC\n",
    "\n",
    "df = radi.copy()\n",
    "X = df.drop(columns=[\"Transition\"]) \n",
    "y = df[\"Transition\"]\n",
    "\n",
    "# Train-test split\n",
    "X_train, X_test, y_train, y_test = train_test_split(X, y, test_size=0.25, random_state=2025)\n",
    "\n",
    "# Define the parameter grid for SVC\n",
    "param_grid = {\n",
    "    'C': [0.1, 1, 10, 100],              # Regularization parameter\n",
    "    'kernel': ['linear', 'rbf', 'poly'],  # Kernel types\n",
    "    'gamma': ['scale', 'auto'],           # Kernel coefficient for 'rbf' and 'poly' kernels\n",
    "}\n",
    "\n",
    "# Initialize the SVC model\n",
    "svm_model = SVC(random_state=2025)\n",
    "\n",
    "# Initialize GridSearchCV with cross-validation\n",
    "svm_grid = GridSearchCV(estimator=svm_model, param_grid=param_grid, \n",
    "                           cv=5, scoring='f1_weighted', verbose=1, n_jobs=-1)\n",
    "\n",
    "svm_grid.fit(X_train, y_train)\n",
    "y_pred_svm = svm_grid.best_estimator_.predict(X_test)\n",
    "classification_reports[\"SVM\"] = classification_report(y_test, y_pred_svm, output_dict=True,zero_division=0)\n",
    "print(f\"Best SVM Model Parameters: {svm_grid.best_params_}\")\n",
    "print(f\"SVM Classification Report:\\n\", classification_report(y_test, y_pred_svm))"
   ]
  },
  {
   "cell_type": "markdown",
   "id": "310db9ef-1d6d-490b-bf85-9e29eeef0567",
   "metadata": {},
   "source": [
    "## Stacking"
   ]
  },
  {
   "cell_type": "code",
   "execution_count": 9,
   "id": "163d2b1a-50d4-4a5c-aee3-66b8d33bd2c3",
   "metadata": {},
   "outputs": [
    {
     "name": "stdout",
     "output_type": "stream",
     "text": [
      "[CV 2/5] END ..................n_estimators=100;, score=0.369 total time=   4.3s\n",
      "[CV 1/5] END ..................n_estimators=300;, score=0.401 total time=  11.8s\n",
      "[CV 4/5] END ..................n_estimators=500;, score=0.387 total time=  19.7s\n",
      "[CV 2/5] END .................n_estimators=1000;, score=0.377 total time=  37.7s\n",
      "[CV 2/5] END ..................n_estimators=150;, score=0.347 total time=   6.1s\n",
      "[CV 4/5] END ..................n_estimators=300;, score=0.410 total time=  12.1s\n",
      "[CV 3/5] END ..................n_estimators=800;, score=0.477 total time=  33.0s\n",
      "[CV 4/5] END ..................n_estimators=100;, score=0.397 total time=   4.5s\n",
      "[CV 3/5] END ..................n_estimators=300;, score=0.450 total time=  12.4s\n",
      "[CV 5/5] END ..................n_estimators=500;, score=0.354 total time=  19.8s\n",
      "[CV 3/5] END .................n_estimators=1000;, score=0.492 total time=  37.6s\n",
      "[CV 3/5] END ..................n_estimators=150;, score=0.498 total time=   6.5s\n",
      "[CV 1/5] END ..................n_estimators=500;, score=0.386 total time=  19.8s\n",
      "[CV 4/5] END ..................n_estimators=800;, score=0.365 total time=  32.5s\n",
      "[CV 1/5] END ..................n_estimators=150;, score=0.367 total time=   6.3s\n",
      "[CV 5/5] END ..................n_estimators=300;, score=0.356 total time=  11.7s\n",
      "[CV 2/5] END ..................n_estimators=800;, score=0.377 total time=  32.7s\n",
      "[CV 5/5] END .................n_estimators=1000;, score=0.373 total time=  32.1s\n",
      "[CV 5/5] END ..................n_estimators=100;, score=0.374 total time=   4.3s\n",
      "[CV 2/5] END ..................n_estimators=300;, score=0.389 total time=  12.5s\n",
      "[CV 1/5] END ..................n_estimators=800;, score=0.342 total time=  31.6s\n",
      "[CV 4/5] END .................n_estimators=1000;, score=0.362 total time=  34.6s\n",
      "[CV 3/5] END ..................n_estimators=100;, score=0.494 total time=   4.0s\n",
      "[CV 5/5] END ..................n_estimators=150;, score=0.390 total time=   6.3s\n",
      "[CV 2/5] END ..................n_estimators=500;, score=0.377 total time=  20.3s\n",
      "[CV 1/5] END .................n_estimators=1000;, score=0.342 total time=  38.6s\n",
      "[CV 1/5] END ..................n_estimators=100;, score=0.367 total time=   4.0s\n",
      "[CV 4/5] END ..................n_estimators=150;, score=0.402 total time=   6.4s\n",
      "[CV 3/5] END ..................n_estimators=500;, score=0.511 total time=  19.9s\n",
      "[CV 5/5] END ..................n_estimators=800;, score=0.354 total time=  31.8s\n",
      "Stacking Classification Report:\n",
      "               precision    recall  f1-score   support\n",
      "\n",
      "       AD-AD       0.36      0.29      0.32        14\n",
      "       CN-CN       0.53      0.73      0.61        26\n",
      "      CN-MCI       0.00      0.00      0.00         1\n",
      "      MCI-AD       0.31      0.36      0.33        14\n",
      "     MCI-MCI       0.14      0.09      0.11        22\n",
      "\n",
      "    accuracy                           0.39        77\n",
      "   macro avg       0.27      0.29      0.28        77\n",
      "weighted avg       0.34      0.39      0.36        77\n",
      "\n"
     ]
    },
    {
     "name": "stderr",
     "output_type": "stream",
     "text": [
      "/Users/nunorodrigues/miniconda3/envs/myenv/lib/python3.12/site-packages/sklearn/metrics/_classification.py:1531: UndefinedMetricWarning: Precision is ill-defined and being set to 0.0 in labels with no predicted samples. Use `zero_division` parameter to control this behavior.\n",
      "  _warn_prf(average, modifier, f\"{metric.capitalize()} is\", len(result))\n",
      "/Users/nunorodrigues/miniconda3/envs/myenv/lib/python3.12/site-packages/sklearn/metrics/_classification.py:1531: UndefinedMetricWarning: Precision is ill-defined and being set to 0.0 in labels with no predicted samples. Use `zero_division` parameter to control this behavior.\n",
      "  _warn_prf(average, modifier, f\"{metric.capitalize()} is\", len(result))\n",
      "/Users/nunorodrigues/miniconda3/envs/myenv/lib/python3.12/site-packages/sklearn/metrics/_classification.py:1531: UndefinedMetricWarning: Precision is ill-defined and being set to 0.0 in labels with no predicted samples. Use `zero_division` parameter to control this behavior.\n",
      "  _warn_prf(average, modifier, f\"{metric.capitalize()} is\", len(result))\n"
     ]
    }
   ],
   "source": [
    "from sklearn.ensemble import StackingClassifier\n",
    "from sklearn.linear_model import LogisticRegression\n",
    "\n",
    "df = radi.copy()\n",
    "X = df.drop(columns=[\"Transition\"]) \n",
    "y = df[\"Transition\"]\n",
    "\n",
    "# Train-test split\n",
    "X_train, X_test, y_train, y_test = train_test_split(X, y, test_size=0.25, random_state=2025)\n",
    "\n",
    "meta_model = RandomForestClassifier(random_state=25)\n",
    "\n",
    "estimators = [(\"gb\", gb_grid.best_estimator_), (\"svm\", svm_grid.best_estimator_), (\"rf\", rf_grid.best_estimator_)]\n",
    "st_model = StackingClassifier(estimators=estimators, final_estimator = meta_model) \n",
    "st_model.fit(X_train, y_train)\n",
    "st_predictions = st_model.predict(X_test)\n",
    "classification_reports[\"Stacking\"] = classification_report(y_test, st_predictions, output_dict=True,zero_division=0)\n",
    "print(f\"Stacking Classification Report:\\n\", classification_report(y_test, st_predictions))"
   ]
  },
  {
   "cell_type": "markdown",
   "id": "b82b9c85-0155-4b27-b113-99b13f759c31",
   "metadata": {},
   "source": [
    "## Max Voting"
   ]
  },
  {
   "cell_type": "code",
   "execution_count": 10,
   "id": "9c8c0c79-14ed-4b55-bb83-aa483300c35a",
   "metadata": {},
   "outputs": [
    {
     "name": "stdout",
     "output_type": "stream",
     "text": [
      "Voting Classification Report:\n",
      "               precision    recall  f1-score   support\n",
      "\n",
      "       AD-AD       0.36      0.29      0.32        14\n",
      "       CN-CN       0.53      0.73      0.61        26\n",
      "      CN-MCI       0.00      0.00      0.00         1\n",
      "      MCI-AD       0.31      0.36      0.33        14\n",
      "     MCI-MCI       0.14      0.09      0.11        22\n",
      "\n",
      "    accuracy                           0.39        77\n",
      "   macro avg       0.27      0.29      0.28        77\n",
      "weighted avg       0.34      0.39      0.36        77\n",
      "\n"
     ]
    },
    {
     "name": "stderr",
     "output_type": "stream",
     "text": [
      "/Users/nunorodrigues/miniconda3/envs/myenv/lib/python3.12/site-packages/sklearn/metrics/_classification.py:1531: UndefinedMetricWarning: Precision is ill-defined and being set to 0.0 in labels with no predicted samples. Use `zero_division` parameter to control this behavior.\n",
      "  _warn_prf(average, modifier, f\"{metric.capitalize()} is\", len(result))\n",
      "/Users/nunorodrigues/miniconda3/envs/myenv/lib/python3.12/site-packages/sklearn/metrics/_classification.py:1531: UndefinedMetricWarning: Precision is ill-defined and being set to 0.0 in labels with no predicted samples. Use `zero_division` parameter to control this behavior.\n",
      "  _warn_prf(average, modifier, f\"{metric.capitalize()} is\", len(result))\n",
      "/Users/nunorodrigues/miniconda3/envs/myenv/lib/python3.12/site-packages/sklearn/metrics/_classification.py:1531: UndefinedMetricWarning: Precision is ill-defined and being set to 0.0 in labels with no predicted samples. Use `zero_division` parameter to control this behavior.\n",
      "  _warn_prf(average, modifier, f\"{metric.capitalize()} is\", len(result))\n"
     ]
    }
   ],
   "source": [
    "from sklearn.ensemble import VotingClassifier\n",
    "\n",
    "df = radi.copy()\n",
    "X = df.drop(columns=[\"Transition\"]) \n",
    "y = df[\"Transition\"]\n",
    "\n",
    "# Train-test split\n",
    "X_train, X_test, y_train, y_test = train_test_split(X, y, test_size=0.25, random_state=2025)\n",
    "\n",
    "\n",
    "estimators = [(\"gb\", gb_grid.best_estimator_), (\"svm\", svm_grid.best_estimator_), (\"rf\", rf_grid.best_estimator_)]\n",
    "vt_model = VotingClassifier(estimators=estimators, voting = 'hard', weights = [3,2,1]) \n",
    "vt_model.fit(X_train, y_train)\n",
    "vt_predictions = vt_model.predict(X_test)\n",
    "classification_reports[\"Voting\"] = classification_report(y_test, vt_predictions, output_dict=True,zero_division=0)\n",
    "print(f\"Voting Classification Report:\\n\", classification_report(y_test, st_predictions))"
   ]
  },
  {
   "cell_type": "markdown",
   "id": "582cf1f4-e743-42b9-822f-b267c01e39ef",
   "metadata": {},
   "source": [
    "## Ver Resultados"
   ]
  },
  {
   "cell_type": "code",
   "execution_count": 11,
   "id": "31dedfa6-8434-48b1-97ee-1c9720974b5c",
   "metadata": {},
   "outputs": [
    {
     "data": {
      "image/png": "[encoded data removed]",
      "text/plain": [
       "<Figure size 2000x800 with 1 Axes>"
      ]
     },
     "metadata": {},
     "output_type": "display_data"
    }
   ],
   "source": [
    "import matplotlib.pyplot as plt\n",
    "\n",
    "# Assuming f1_scores is already defined\n",
    "f1_scores = {model: report[\"weighted avg\"][\"f1-score\"] for model, report in classification_reports.items()}\n",
    "\n",
    "# Plotting\n",
    "plt.figure(figsize=(20, 8))\n",
    "\n",
    "# F1 Score Graph\n",
    "plt.subplot(1, 2, 1)\n",
    "bars = plt.bar(f1_scores.keys(), f1_scores.values(), color='skyblue')\n",
    "plt.xlabel(\"Model\")\n",
    "plt.ylabel(\"F1 Score\")\n",
    "plt.title(\"Model Comparison - F1 Scores\")\n",
    "plt.ylim(0, 0.6)\n",
    "\n",
    "# Display values on top of each bar\n",
    "for bar in bars:\n",
    "    yval = bar.get_height()\n",
    "    plt.text(bar.get_x() + bar.get_width()/2, yval + 0.01, f'{yval:.2f}', ha='center', va='bottom', fontsize=10)\n",
    "\n",
    "plt.tight_layout()\n",
    "plt.show()\n"
   ]
  },
  {
   "cell_type": "code",
   "execution_count": 12,
   "id": "61ce0b20-6526-4040-96a2-adbffb3aaf75",
   "metadata": {},
   "outputs": [
    {
     "data": {
      "image/png": "[encoded data removed]",
      "text/plain": [
       "<Figure size 2000x800 with 1 Axes>"
      ]
     },
     "metadata": {},
     "output_type": "display_data"
    }
   ],
   "source": [
    "accuracies = {model: report[\"accuracy\"] for model, report in classification_reports.items()}\n",
    "\n",
    "# Accuracy Graph\n",
    "plt.figure(figsize=(20, 8))\n",
    "plt.subplot(1, 2, 2)\n",
    "bars = plt.bar(accuracies.keys(), accuracies.values(), color='salmon')\n",
    "plt.xlabel(\"Model\")\n",
    "plt.ylabel(\"Accuracy\")\n",
    "plt.title(\"Model Comparison - Accuracy\")\n",
    "plt.ylim(0, 0.6)\n",
    "\n",
    "\n",
    "# Display values on top of each bar\n",
    "for bar in bars:\n",
    "    yval = bar.get_height()\n",
    "    plt.text(bar.get_x() + bar.get_width()/2, yval + 0.01, f'{yval:.2f}', ha='center', va='bottom', fontsize=10)\n",
    "\n",
    "plt.tight_layout()\n",
    "plt.show()"
   ]
  },
  {
   "cell_type": "markdown",
   "id": "b46ee5db-1e29-4bf6-a633-c1aa353eaffc",
   "metadata": {},
   "source": [
    "## Generating csv"
   ]
  },
  {
   "cell_type": "code",
   "execution_count": 13,
   "id": "3f5ef06f-d585-4137-9c63-098fde399089",
   "metadata": {},
   "outputs": [
    {
     "name": "stdout",
     "output_type": "stream",
     "text": [
      "[CV 3/5] END ..................n_estimators=150;, score=0.402 total time=  10.9s\n",
      "[CV 1/5] END ..................n_estimators=500;, score=0.311 total time=  32.8s\n",
      "[CV 4/5] END ..................n_estimators=800;, score=0.276 total time=  31.1s\n",
      "[CV 2/5] END ..................n_estimators=150;, score=0.264 total time=  10.7s\n",
      "[CV 5/5] END ..................n_estimators=300;, score=0.291 total time=  20.8s\n",
      "[CV 3/5] END ..................n_estimators=800;, score=0.379 total time=  35.7s\n",
      "[CV 2/5] END ..................n_estimators=100;, score=0.281 total time=   7.0s\n",
      "[CV 5/5] END ..................n_estimators=150;, score=0.319 total time=  10.4s\n",
      "[CV 2/5] END ..................n_estimators=500;, score=0.289 total time=  30.0s\n",
      "[CV 5/5] END ..................n_estimators=800;, score=0.290 total time=  30.3s\n",
      "[CV 3/5] END ..................n_estimators=100;, score=0.399 total time=   7.1s\n",
      "[CV 1/5] END ..................n_estimators=300;, score=0.322 total time=  20.4s\n",
      "[CV 4/5] END ..................n_estimators=500;, score=0.295 total time=  25.6s\n",
      "[CV 2/5] END .................n_estimators=1000;, score=0.295 total time=  35.2s\n",
      "[CV 5/5] END ..................n_estimators=100;, score=0.303 total time=   7.2s\n",
      "[CV 2/5] END ..................n_estimators=300;, score=0.300 total time=  20.6s\n",
      "[CV 5/5] END ..................n_estimators=500;, score=0.290 total time=  25.8s\n",
      "[CV 3/5] END .................n_estimators=1000;, score=0.395 total time=  34.7s\n",
      "[CV 1/5] END ..................n_estimators=100;, score=0.291 total time=   6.9s\n",
      "[CV 4/5] END ..................n_estimators=150;, score=0.302 total time=  10.7s\n",
      "[CV 3/5] END ..................n_estimators=500;, score=0.411 total time=  30.6s\n",
      "[CV 1/5] END .................n_estimators=1000;, score=0.275 total time=  35.8s\n",
      "[CV 4/5] END ..................n_estimators=100;, score=0.299 total time=   7.3s\n",
      "[CV 3/5] END ..................n_estimators=300;, score=0.360 total time=  21.4s\n",
      "[CV 1/5] END ..................n_estimators=800;, score=0.275 total time=  37.8s\n",
      "[CV 4/5] END .................n_estimators=1000;, score=0.275 total time=  31.4s\n",
      "[CV 1/5] END ..................n_estimators=150;, score=0.291 total time=  10.4s\n",
      "[CV 4/5] END ..................n_estimators=300;, score=0.315 total time=  21.0s\n",
      "[CV 2/5] END ..................n_estimators=800;, score=0.295 total time=  35.4s\n",
      "[CV 5/5] END .................n_estimators=1000;, score=0.307 total time=  29.9s\n"
     ]
    }
   ],
   "source": [
    "# Load the test dataset\n",
    "test_data = pd.read_csv(\"sbsppdaa24/test_radiomics_hipocamp.csv\")\n",
    "\n",
    "test_data[float_cols] = scaler.transform(test_data[float_cols])\n",
    "# Apply the same preprocessing as in the training phase\n",
    "# Drop unused columns to match the training features\n",
    "test_data = test_data[radi.drop([\"Transition\"],axis=1).columns]\n",
    "\n",
    "# Apply the previously fitted scaler to the test data\n",
    "\n",
    "# Generate predictions using the Bagging model\n",
    "bg_predictions_test = bagging_grid.best_estimator_.predict(test_data)\n",
    "\n",
    "# Generate predictions using the RandomForest model\n",
    "rf_predictions_test = rf_grid.best_estimator_.predict(test_data)\n",
    "\n",
    "# Generate predictions using the Gradient Boosting model\n",
    "gb_predictions_test = gb_grid.best_estimator_.predict(test_data)\n",
    "\n",
    "# Generate predictions using the Voting model\n",
    "vb_predictions_test = vt_model.predict(test_data)\n",
    "\n",
    "# Store each model's predictions in separate DataFrames and save to CSV\n",
    "res0 = pd.DataFrame({\n",
    "    'RowId': range(1, len(bg_predictions_test) + 1),\n",
    "    'Result': bg_predictions_test \n",
    "})\n",
    "res0.to_csv('BaggingGrid4.0.csv', index=False)\n",
    "\n",
    "res1 = pd.DataFrame({\n",
    "    'RowId': range(1, len(rf_predictions_test) + 1),\n",
    "    'Result': rf_predictions_test\n",
    "})\n",
    "res1.to_csv('RandomForestGrid4.0.csv', index=False)\n",
    "\n",
    "res2 = pd.DataFrame({\n",
    "    'RowId': range(1, len(gb_predictions_test) + 1),\n",
    "    'Result': gb_predictions_test\n",
    "})\n",
    "res2.to_csv('GradientBoostingGrid4.0.csv', index=False)\n",
    "\n",
    "res3 = pd.DataFrame({\n",
    "    'RowId': range(1, len(vb_predictions_test) + 1),\n",
    "    'Result': vb_predictions_test\n",
    "})\n",
    "res3.to_csv('Voting4.0.csv', index=False)\n"
   ]
  },
  {
   "cell_type": "code",
   "execution_count": null,
   "id": "3748da0e-e79f-46ee-b9e1-4e483d5efb7e",
   "metadata": {},
   "outputs": [],
   "source": []
  }
 ],
 "metadata": {
  "kernelspec": {
   "display_name": "Python 3 (ipykernel)",
   "language": "python",
   "name": "python3"
  },
  "language_info": {
   "codemirror_mode": {
    "name": "ipython",
    "version": 3
   },
   "file_extension": ".py",
   "mimetype": "text/x-python",
   "name": "python",
   "nbconvert_exporter": "python",
   "pygments_lexer": "ipython3",
   "version": "3.12.2"
  }
 },
 "nbformat": 4,
 "nbformat_minor": 5
}
