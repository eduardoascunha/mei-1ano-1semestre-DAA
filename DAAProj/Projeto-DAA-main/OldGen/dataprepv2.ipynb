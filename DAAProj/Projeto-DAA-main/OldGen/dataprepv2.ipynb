{
 "cells": [
  {
   "cell_type": "code",
   "execution_count": null,
   "id": "0913eb95-b1ab-42c2-8d2c-dd1a3ad17ac2",
   "metadata": {},
   "outputs": [],
   "source": [
    "import pandas as pd\n",
    "import numpy as np\n",
    "from sklearn.preprocessing import StandardScaler\n",
    "from scipy import stats\n",
    "\n",
    "\n",
    "# Load dataset\n",
    "radi = pd.read_csv(\"sbsppdaa24/train_radiomics_hipocamp.csv\")\n",
    "\n",
    "# Drop unique identifier columns\n",
    "radi.drop(columns=[\"Mask\", \"ID\", \"Image\"], inplace=True)\n",
    "\n",
    "# Drop non-numeric columns except for 'Transition'\n",
    "columns_to_drop = [col for col in radi.columns if radi[col].dtype == 'object' and col != 'Transition']\n",
    "radi.drop(columns=columns_to_drop, inplace=True)\n",
    "print(f\"Dropped {len(columns_to_drop)} non-numeric columns.\")\n",
    "\n",
    "# Drop columns where all entries are the same\n",
    "same_value_cols = [col for col in radi.columns if radi[col].nunique() == 1]\n",
    "radi.drop(columns=same_value_cols, inplace=True)\n",
    "print(f\"Dropped {len(same_value_cols)} columns with the same value for every entry.\")\n",
    "\n",
    "# Define the features (excluding the target variable)\n",
    "features = radi.drop(columns=['Transition'])\n",
    "\n",
    "radi.info()\n",
    "\n",
    "\n",
    "\n",
    "# Calculate Z-scores for numeric features only\n",
    "z_scores = stats.zscore(features)\n",
    "\n",
    "# Set a threshold for identifying outliers\n",
    "threshold = 7\n",
    "\n",
    "# Create a mask for values with Z-scores within the threshold\n",
    "mask = (abs(z_scores) < threshold).all(axis=1)\n",
    "\n",
    "# Filter the DataFrame\n",
    "radi_no_outliers = radi[mask]\n",
    "print(f\"Removed {len(radi) - len(radi_no_outliers)} outliers using Z-Score method.\")\n",
    "\n",
    "# Final DataFrame info\n",
    "radi = radi_no_outliers.copy()\n",
    "radi.info()\n",
    "\n",
    "## Normalization \n",
    "# Initialize the StandardScaler\n",
    "scaler = StandardScaler()\n",
    "# Fit the scaler on the feature columns and transform the data\n",
    "radi[features.columns] = scaler.fit_transform(radi[features.columns])\n",
    "\n",
    "# Display the final DataFrame info\n",
    "radi.info()\n"
   ]
  },
  {
   "cell_type": "code",
   "execution_count": null,
   "id": "22377518-0b20-4952-8403-76419671d6d3",
   "metadata": {},
   "outputs": [],
   "source": [
    "## Feature Selection ? "
   ]
  },
  {
   "cell_type": "code",
   "execution_count": null,
   "id": "ab9f6f01-63dc-4243-bb5b-7a2d1cb65e01",
   "metadata": {},
   "outputs": [],
   "source": []
  }
 ],
 "metadata": {
  "kernelspec": {
   "display_name": "Python 3 (ipykernel)",
   "language": "python",
   "name": "python3"
  },
  "language_info": {
   "codemirror_mode": {
    "name": "ipython",
    "version": 3
   },
   "file_extension": ".py",
   "mimetype": "text/x-python",
   "name": "python",
   "nbconvert_exporter": "python",
   "pygments_lexer": "ipython3",
   "version": "3.12.4"
  }
 },
 "nbformat": 4,
 "nbformat_minor": 5
}
