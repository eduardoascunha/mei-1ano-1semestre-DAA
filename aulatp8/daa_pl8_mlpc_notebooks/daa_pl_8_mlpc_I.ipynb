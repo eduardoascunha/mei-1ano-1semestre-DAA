{
 "cells": [
  {
   "cell_type": "markdown",
   "metadata": {},
   "source": [
    "# Dados e Aprendizagem Automática\n",
    "### Part VIII"
   ]
  },
  {
   "cell_type": "markdown",
   "metadata": {},
   "source": [
    "## **Multi Layer Percepreton using Titanic Dataset - I**"
   ]
  },
  {
   "cell_type": "markdown",
   "metadata": {},
   "source": [
    "#### Imports, installations and settings"
   ]
  },
  {
   "cell_type": "markdown",
   "metadata": {},
   "source": [
    "Install Pytorch: https://pytorch.org/get-started/locally/"
   ]
  },
  {
   "cell_type": "code",
   "execution_count": 1,
   "metadata": {},
   "outputs": [],
   "source": [
    "import sklearn as skl\n",
    "import pandas as pd\n",
    "import numpy as np\n",
    "import matplotlib.pyplot as plt\n",
    "import seaborn as sns\n",
    "import torch\n",
    "\n",
    "%matplotlib inline\n",
    "\n",
    "device = torch.device(\"cpu\") #torch.device(\"cuda\" if torch.cuda.is_available() else \"cpu\")"
   ]
  },
  {
   "cell_type": "code",
   "execution_count": 2,
   "metadata": {},
   "outputs": [
    {
     "name": "stdout",
     "output_type": "stream",
     "text": [
      "2.5.1+cpu\n"
     ]
    }
   ],
   "source": [
    "print(torch.__version__)"
   ]
  },
  {
   "attachments": {},
   "cell_type": "markdown",
   "metadata": {},
   "source": [
    "#### FE and EDA on Titanic Dataset"
   ]
  },
  {
   "cell_type": "markdown",
   "metadata": {},
   "source": [
    "Load the CSV - *Titanic*"
   ]
  },
  {
   "cell_type": "code",
   "execution_count": 3,
   "metadata": {},
   "outputs": [],
   "source": [
    "df = pd."
   ]
  },
  {
   "cell_type": "markdown",
   "metadata": {},
   "source": [
    "Inspect data"
   ]
  },
  {
   "cell_type": "code",
   "execution_count": 4,
   "metadata": {},
   "outputs": [
    {
     "data": {
      "text/html": [
       "<div>\n",
       "<style scoped>\n",
       "    .dataframe tbody tr th:only-of-type {\n",
       "        vertical-align: middle;\n",
       "    }\n",
       "\n",
       "    .dataframe tbody tr th {\n",
       "        vertical-align: top;\n",
       "    }\n",
       "\n",
       "    .dataframe thead th {\n",
       "        text-align: right;\n",
       "    }\n",
       "</style>\n",
       "<table border=\"1\" class=\"dataframe\">\n",
       "  <thead>\n",
       "    <tr style=\"text-align: right;\">\n",
       "      <th></th>\n",
       "      <th>PassengerId</th>\n",
       "      <th>Survived</th>\n",
       "      <th>Pclass</th>\n",
       "      <th>Name</th>\n",
       "      <th>Sex</th>\n",
       "      <th>Age</th>\n",
       "      <th>SibSp</th>\n",
       "      <th>Parch</th>\n",
       "      <th>Ticket</th>\n",
       "      <th>Fare</th>\n",
       "      <th>Cabin</th>\n",
       "      <th>Embarked</th>\n",
       "    </tr>\n",
       "  </thead>\n",
       "  <tbody>\n",
       "    <tr>\n",
       "      <th>0</th>\n",
       "      <td>1</td>\n",
       "      <td>0</td>\n",
       "      <td>3</td>\n",
       "      <td>Braund, Mr. Owen Harris</td>\n",
       "      <td>male</td>\n",
       "      <td>22.0</td>\n",
       "      <td>1</td>\n",
       "      <td>0</td>\n",
       "      <td>A/5 21171</td>\n",
       "      <td>7.2500</td>\n",
       "      <td>NaN</td>\n",
       "      <td>S</td>\n",
       "    </tr>\n",
       "    <tr>\n",
       "      <th>1</th>\n",
       "      <td>2</td>\n",
       "      <td>1</td>\n",
       "      <td>1</td>\n",
       "      <td>Cumings, Mrs. John Bradley (Florence Briggs Th...</td>\n",
       "      <td>female</td>\n",
       "      <td>38.0</td>\n",
       "      <td>1</td>\n",
       "      <td>0</td>\n",
       "      <td>PC 17599</td>\n",
       "      <td>71.2833</td>\n",
       "      <td>C85</td>\n",
       "      <td>C</td>\n",
       "    </tr>\n",
       "    <tr>\n",
       "      <th>2</th>\n",
       "      <td>3</td>\n",
       "      <td>1</td>\n",
       "      <td>3</td>\n",
       "      <td>Heikkinen, Miss. Laina</td>\n",
       "      <td>female</td>\n",
       "      <td>26.0</td>\n",
       "      <td>0</td>\n",
       "      <td>0</td>\n",
       "      <td>STON/O2. 3101282</td>\n",
       "      <td>7.9250</td>\n",
       "      <td>NaN</td>\n",
       "      <td>S</td>\n",
       "    </tr>\n",
       "    <tr>\n",
       "      <th>3</th>\n",
       "      <td>4</td>\n",
       "      <td>1</td>\n",
       "      <td>1</td>\n",
       "      <td>Futrelle, Mrs. Jacques Heath (Lily May Peel)</td>\n",
       "      <td>female</td>\n",
       "      <td>35.0</td>\n",
       "      <td>1</td>\n",
       "      <td>0</td>\n",
       "      <td>113803</td>\n",
       "      <td>53.1000</td>\n",
       "      <td>C123</td>\n",
       "      <td>S</td>\n",
       "    </tr>\n",
       "    <tr>\n",
       "      <th>4</th>\n",
       "      <td>5</td>\n",
       "      <td>0</td>\n",
       "      <td>3</td>\n",
       "      <td>Allen, Mr. William Henry</td>\n",
       "      <td>male</td>\n",
       "      <td>35.0</td>\n",
       "      <td>0</td>\n",
       "      <td>0</td>\n",
       "      <td>373450</td>\n",
       "      <td>8.0500</td>\n",
       "      <td>NaN</td>\n",
       "      <td>S</td>\n",
       "    </tr>\n",
       "  </tbody>\n",
       "</table>\n",
       "</div>"
      ],
      "text/plain": [
       "   PassengerId  Survived  Pclass  \\\n",
       "0            1         0       3   \n",
       "1            2         1       1   \n",
       "2            3         1       3   \n",
       "3            4         1       1   \n",
       "4            5         0       3   \n",
       "\n",
       "                                                Name     Sex   Age  SibSp  \\\n",
       "0                            Braund, Mr. Owen Harris    male  22.0      1   \n",
       "1  Cumings, Mrs. John Bradley (Florence Briggs Th...  female  38.0      1   \n",
       "2                             Heikkinen, Miss. Laina  female  26.0      0   \n",
       "3       Futrelle, Mrs. Jacques Heath (Lily May Peel)  female  35.0      1   \n",
       "4                           Allen, Mr. William Henry    male  35.0      0   \n",
       "\n",
       "   Parch            Ticket     Fare Cabin Embarked  \n",
       "0      0         A/5 21171   7.2500   NaN        S  \n",
       "1      0          PC 17599  71.2833   C85        C  \n",
       "2      0  STON/O2. 3101282   7.9250   NaN        S  \n",
       "3      0            113803  53.1000  C123        S  \n",
       "4      0            373450   8.0500   NaN        S  "
      ]
     },
     "execution_count": 4,
     "metadata": {},
     "output_type": "execute_result"
    }
   ],
   "source": [
    "df."
   ]
  },
  {
   "cell_type": "code",
   "execution_count": 5,
   "metadata": {},
   "outputs": [
    {
     "name": "stdout",
     "output_type": "stream",
     "text": [
      "<class 'pandas.core.frame.DataFrame'>\n",
      "RangeIndex: 891 entries, 0 to 890\n",
      "Data columns (total 12 columns):\n",
      " #   Column       Non-Null Count  Dtype  \n",
      "---  ------       --------------  -----  \n",
      " 0   PassengerId  891 non-null    int64  \n",
      " 1   Survived     891 non-null    int64  \n",
      " 2   Pclass       891 non-null    int64  \n",
      " 3   Name         891 non-null    object \n",
      " 4   Sex          891 non-null    object \n",
      " 5   Age          714 non-null    float64\n",
      " 6   SibSp        891 non-null    int64  \n",
      " 7   Parch        891 non-null    int64  \n",
      " 8   Ticket       891 non-null    object \n",
      " 9   Fare         891 non-null    float64\n",
      " 10  Cabin        204 non-null    object \n",
      " 11  Embarked     889 non-null    object \n",
      "dtypes: float64(2), int64(5), object(5)\n",
      "memory usage: 83.7+ KB\n"
     ]
    }
   ],
   "source": [
    "df."
   ]
  },
  {
   "cell_type": "markdown",
   "metadata": {},
   "source": [
    "Impute by mean the *Nan* values of *Age*"
   ]
  },
  {
   "cell_type": "code",
   "execution_count": 6,
   "metadata": {},
   "outputs": [],
   "source": [
    "def med_impute_nan(df):\n",
    "    med_impute = df.copy()\n",
    "    med_impute[\"Age\"] = med_impute[\"Age\"].fillna(med_impute[\"Age\"].median())"
   ]
  },
  {
   "cell_type": "code",
   "execution_count": 7,
   "metadata": {
    "id": "C9EM0Fic9BeM"
   },
   "outputs": [],
   "source": [
    "med_impute = "
   ]
  },
  {
   "cell_type": "code",
   "execution_count": 8,
   "metadata": {},
   "outputs": [
    {
     "data": {
      "text/plain": [
       "PassengerId      0\n",
       "Survived         0\n",
       "Pclass           0\n",
       "Name             0\n",
       "Sex              0\n",
       "Age              0\n",
       "SibSp            0\n",
       "Parch            0\n",
       "Ticket           0\n",
       "Fare             0\n",
       "Cabin          687\n",
       "Embarked         2\n",
       "dtype: int64"
      ]
     },
     "execution_count": 8,
     "metadata": {},
     "output_type": "execute_result"
    }
   ],
   "source": [
    "df = med_impute\n",
    "df."
   ]
  },
  {
   "cell_type": "code",
   "execution_count": 9,
   "metadata": {
    "id": "t34FaAyaMfQX"
   },
   "outputs": [],
   "source": [
    "embark = df['Embarked']."
   ]
  },
  {
   "cell_type": "code",
   "execution_count": 10,
   "metadata": {
    "id": "vMU5U0OEMtmf",
    "outputId": "b9b594eb-9b80-48f4-c634-62727cedd2de"
   },
   "outputs": [],
   "source": [
    "df['Embarked'] = df['Embarked'].fillna()"
   ]
  },
  {
   "cell_type": "code",
   "execution_count": 11,
   "metadata": {
    "id": "6asn9tsXM7kY"
   },
   "outputs": [],
   "source": [
    "df['Cabin'] = df['Cabin'].fillna(df['Cabin']."
   ]
  },
  {
   "cell_type": "code",
   "execution_count": 12,
   "metadata": {},
   "outputs": [
    {
     "data": {
      "text/plain": [
       "PassengerId    0\n",
       "Survived       0\n",
       "Pclass         0\n",
       "Name           0\n",
       "Sex            0\n",
       "Age            0\n",
       "SibSp          0\n",
       "Parch          0\n",
       "Ticket         0\n",
       "Fare           0\n",
       "Cabin          0\n",
       "Embarked       0\n",
       "dtype: int64"
      ]
     },
     "execution_count": 12,
     "metadata": {},
     "output_type": "execute_result"
    }
   ],
   "source": [
    "df."
   ]
  },
  {
   "cell_type": "code",
   "execution_count": 13,
   "metadata": {
    "id": "USBfbcicWbJ4",
    "outputId": "b1c1ef20-06af-47c2-f74c-5397571092cc"
   },
   "outputs": [],
   "source": [
    "df['Sex'] = df['Sex'].apply(lambda x: 1 if x == "
   ]
  },
  {
   "cell_type": "code",
   "execution_count": 14,
   "metadata": {
    "id": "Gu5F6RNoXEd2"
   },
   "outputs": [],
   "source": [
    "df.drop(columns=['Name', 'Ticket', 'Cabin'], "
   ]
  },
  {
   "cell_type": "code",
   "execution_count": 15,
   "metadata": {
    "id": "B-jd5uGBX1OC",
    "outputId": "13403a68-74ee-4466-9c2d-542582a59314"
   },
   "outputs": [
    {
     "data": {
      "text/html": [
       "<div>\n",
       "<style scoped>\n",
       "    .dataframe tbody tr th:only-of-type {\n",
       "        vertical-align: middle;\n",
       "    }\n",
       "\n",
       "    .dataframe tbody tr th {\n",
       "        vertical-align: top;\n",
       "    }\n",
       "\n",
       "    .dataframe thead th {\n",
       "        text-align: right;\n",
       "    }\n",
       "</style>\n",
       "<table border=\"1\" class=\"dataframe\">\n",
       "  <thead>\n",
       "    <tr style=\"text-align: right;\">\n",
       "      <th></th>\n",
       "      <th>PassengerId</th>\n",
       "      <th>Survived</th>\n",
       "      <th>Pclass</th>\n",
       "      <th>Sex</th>\n",
       "      <th>Age</th>\n",
       "      <th>SibSp</th>\n",
       "      <th>Parch</th>\n",
       "      <th>Fare</th>\n",
       "      <th>Embarked</th>\n",
       "    </tr>\n",
       "  </thead>\n",
       "  <tbody>\n",
       "    <tr>\n",
       "      <th>0</th>\n",
       "      <td>1</td>\n",
       "      <td>0</td>\n",
       "      <td>3</td>\n",
       "      <td>1</td>\n",
       "      <td>22.0</td>\n",
       "      <td>1</td>\n",
       "      <td>0</td>\n",
       "      <td>7.2500</td>\n",
       "      <td>2</td>\n",
       "    </tr>\n",
       "    <tr>\n",
       "      <th>1</th>\n",
       "      <td>2</td>\n",
       "      <td>1</td>\n",
       "      <td>1</td>\n",
       "      <td>0</td>\n",
       "      <td>38.0</td>\n",
       "      <td>1</td>\n",
       "      <td>0</td>\n",
       "      <td>71.2833</td>\n",
       "      <td>0</td>\n",
       "    </tr>\n",
       "    <tr>\n",
       "      <th>2</th>\n",
       "      <td>3</td>\n",
       "      <td>1</td>\n",
       "      <td>3</td>\n",
       "      <td>0</td>\n",
       "      <td>26.0</td>\n",
       "      <td>0</td>\n",
       "      <td>0</td>\n",
       "      <td>7.9250</td>\n",
       "      <td>2</td>\n",
       "    </tr>\n",
       "    <tr>\n",
       "      <th>3</th>\n",
       "      <td>4</td>\n",
       "      <td>1</td>\n",
       "      <td>1</td>\n",
       "      <td>0</td>\n",
       "      <td>35.0</td>\n",
       "      <td>1</td>\n",
       "      <td>0</td>\n",
       "      <td>53.1000</td>\n",
       "      <td>2</td>\n",
       "    </tr>\n",
       "    <tr>\n",
       "      <th>4</th>\n",
       "      <td>5</td>\n",
       "      <td>0</td>\n",
       "      <td>3</td>\n",
       "      <td>1</td>\n",
       "      <td>35.0</td>\n",
       "      <td>0</td>\n",
       "      <td>0</td>\n",
       "      <td>8.0500</td>\n",
       "      <td>2</td>\n",
       "    </tr>\n",
       "  </tbody>\n",
       "</table>\n",
       "</div>"
      ],
      "text/plain": [
       "   PassengerId  Survived  Pclass  Sex   Age  SibSp  Parch     Fare  Embarked\n",
       "0            1         0       3    1  22.0      1      0   7.2500         2\n",
       "1            2         1       1    0  38.0      1      0  71.2833         0\n",
       "2            3         1       3    0  26.0      0      0   7.9250         2\n",
       "3            4         1       1    0  35.0      1      0  53.1000         2\n",
       "4            5         0       3    1  35.0      0      0   8.0500         2"
      ]
     },
     "execution_count": 15,
     "metadata": {},
     "output_type": "execute_result"
    }
   ],
   "source": [
    "from sklearn.preprocessing import LabelEncoder\n",
    "\n",
    "cols = ['Embarked']\n",
    "le = LabelEncoder()\n",
    "\n",
    "for col in cols:\n",
    "    df[col] = le.\n",
    "df.head()"
   ]
  },
  {
   "cell_type": "markdown",
   "metadata": {},
   "source": [
    "Save dataset into a new file"
   ]
  },
  {
   "cell_type": "code",
   "execution_count": 16,
   "metadata": {
    "id": "PSG2ETH5B4nG"
   },
   "outputs": [],
   "source": [
    "t = pd.DataFrame(df)\n",
    "filename = \n",
    "t.to_csv(filename, index=False, encoding='utf-8')"
   ]
  },
  {
   "cell_type": "markdown",
   "metadata": {},
   "source": [
    "**Target: *Pclass***"
   ]
  },
  {
   "cell_type": "code",
   "execution_count": 17,
   "metadata": {},
   "outputs": [
    {
     "data": {
      "text/html": [
       "<div>\n",
       "<style scoped>\n",
       "    .dataframe tbody tr th:only-of-type {\n",
       "        vertical-align: middle;\n",
       "    }\n",
       "\n",
       "    .dataframe tbody tr th {\n",
       "        vertical-align: top;\n",
       "    }\n",
       "\n",
       "    .dataframe thead th {\n",
       "        text-align: right;\n",
       "    }\n",
       "</style>\n",
       "<table border=\"1\" class=\"dataframe\">\n",
       "  <thead>\n",
       "    <tr style=\"text-align: right;\">\n",
       "      <th></th>\n",
       "      <th>PassengerId</th>\n",
       "      <th>Survived</th>\n",
       "      <th>Sex</th>\n",
       "      <th>Age</th>\n",
       "      <th>SibSp</th>\n",
       "      <th>Parch</th>\n",
       "      <th>Fare</th>\n",
       "      <th>Embarked</th>\n",
       "    </tr>\n",
       "  </thead>\n",
       "  <tbody>\n",
       "    <tr>\n",
       "      <th>0</th>\n",
       "      <td>1</td>\n",
       "      <td>0</td>\n",
       "      <td>1</td>\n",
       "      <td>22.0</td>\n",
       "      <td>1</td>\n",
       "      <td>0</td>\n",
       "      <td>7.2500</td>\n",
       "      <td>2</td>\n",
       "    </tr>\n",
       "    <tr>\n",
       "      <th>1</th>\n",
       "      <td>2</td>\n",
       "      <td>1</td>\n",
       "      <td>0</td>\n",
       "      <td>38.0</td>\n",
       "      <td>1</td>\n",
       "      <td>0</td>\n",
       "      <td>71.2833</td>\n",
       "      <td>0</td>\n",
       "    </tr>\n",
       "    <tr>\n",
       "      <th>2</th>\n",
       "      <td>3</td>\n",
       "      <td>1</td>\n",
       "      <td>0</td>\n",
       "      <td>26.0</td>\n",
       "      <td>0</td>\n",
       "      <td>0</td>\n",
       "      <td>7.9250</td>\n",
       "      <td>2</td>\n",
       "    </tr>\n",
       "    <tr>\n",
       "      <th>3</th>\n",
       "      <td>4</td>\n",
       "      <td>1</td>\n",
       "      <td>0</td>\n",
       "      <td>35.0</td>\n",
       "      <td>1</td>\n",
       "      <td>0</td>\n",
       "      <td>53.1000</td>\n",
       "      <td>2</td>\n",
       "    </tr>\n",
       "    <tr>\n",
       "      <th>4</th>\n",
       "      <td>5</td>\n",
       "      <td>0</td>\n",
       "      <td>1</td>\n",
       "      <td>35.0</td>\n",
       "      <td>0</td>\n",
       "      <td>0</td>\n",
       "      <td>8.0500</td>\n",
       "      <td>2</td>\n",
       "    </tr>\n",
       "  </tbody>\n",
       "</table>\n",
       "</div>"
      ],
      "text/plain": [
       "   PassengerId  Survived  Sex   Age  SibSp  Parch     Fare  Embarked\n",
       "0            1         0    1  22.0      1      0   7.2500         2\n",
       "1            2         1    0  38.0      1      0  71.2833         0\n",
       "2            3         1    0  26.0      0      0   7.9250         2\n",
       "3            4         1    0  35.0      1      0  53.1000         2\n",
       "4            5         0    1  35.0      0      0   8.0500         2"
      ]
     },
     "execution_count": 17,
     "metadata": {},
     "output_type": "execute_result"
    }
   ],
   "source": [
    "df_X = t.drop('Pclass', axis=1)\n",
    "df_X."
   ]
  },
  {
   "cell_type": "code",
   "execution_count": 18,
   "metadata": {},
   "outputs": [],
   "source": [
    "t_X = pd.DataFrame(df_X)\n",
    "filename = \n",
    "t_X.to_csv(filename, index=False, encoding='utf-8')"
   ]
  },
  {
   "cell_type": "code",
   "execution_count": 19,
   "metadata": {},
   "outputs": [
    {
     "data": {
      "text/plain": [
       "0    3\n",
       "1    1\n",
       "2    3\n",
       "3    1\n",
       "4    3\n",
       "Name: Pclass, dtype: int64"
      ]
     },
     "execution_count": 19,
     "metadata": {},
     "output_type": "execute_result"
    }
   ],
   "source": [
    "df_y = t['Pclass']\n",
    "df_y."
   ]
  },
  {
   "cell_type": "code",
   "execution_count": 20,
   "metadata": {},
   "outputs": [],
   "source": [
    "t_y = pd.DataFrame(df_y)\n",
    "filename = \n",
    "t_y.to_csv(filename, index=False, encoding='utf-8')"
   ]
  },
  {
   "cell_type": "markdown",
   "metadata": {},
   "source": [
    "#### Data Preparation"
   ]
  },
  {
   "cell_type": "code",
   "execution_count": 21,
   "metadata": {},
   "outputs": [],
   "source": [
    "from torch.utils.data import Dataset\n",
    "from torch.utils.data import DataLoader\n",
    "from torch.utils.data import random_split\n",
    "from torch import Tensor\n",
    "\n",
    "class CSVDataset(Dataset):\n",
    "    def __init__(self, path):\n",
    "        df_X = pd.read_csv(, header=0)\n",
    "        df_y = pd.read_csv(, header=0)\n",
    "        self.X = df_X.values\n",
    "        self.y = df_y.values[:, 0]-1\n",
    "        self.X = self.X.astype('float32')\n",
    "        self.y = torch.tensor(self.y, dtype=torch.long, device=device)\n",
    "        \n",
    "    def __len__(self):\n",
    "        return len(self.X)\n",
    " \n",
    "    def __getitem__(self, idx):\n",
    "        return [self.X[idx], self.y[idx]]\n",
    " \n",
    "    def get_splits(self, n_test):\n",
    "        test_size = round(n_test * len(self.X))\n",
    "        train_size = len(self.X) - test_size\n",
    "        return random_split(self, [train_size, test_size])\n",
    "    \n",
    "def prepare_data(df, n_test):\n",
    "    dataset = CSVDataset(df)\n",
    "    train, test = dataset.get_splits(n_test)\n",
    "    train_dl = DataLoader(train, batch_size=len(train), shuffle=True)\n",
    "    test_dl = DataLoader(test, batch_size=len(train), shuffle=True)"
   ]
  },
  {
   "cell_type": "code",
   "execution_count": 22,
   "metadata": {},
   "outputs": [
    {
     "name": "stdout",
     "output_type": "stream",
     "text": [
      "(891, 8)\n",
      "torch.Size([891])\n",
      "2\n",
      "1\n",
      "float32\n",
      "torch.int64\n"
     ]
    }
   ],
   "source": [
    "train_dl, test_dl = prepare_data()"
   ]
  },
  {
   "cell_type": "markdown",
   "metadata": {},
   "source": [
    "#### Data Balance"
   ]
  },
  {
   "cell_type": "code",
   "execution_count": 23,
   "metadata": {},
   "outputs": [
    {
     "data": {
      "text/html": [
       "<div>\n",
       "<style scoped>\n",
       "    .dataframe tbody tr th:only-of-type {\n",
       "        vertical-align: middle;\n",
       "    }\n",
       "\n",
       "    .dataframe tbody tr th {\n",
       "        vertical-align: top;\n",
       "    }\n",
       "\n",
       "    .dataframe thead th {\n",
       "        text-align: right;\n",
       "    }\n",
       "</style>\n",
       "<table border=\"1\" class=\"dataframe\">\n",
       "  <thead>\n",
       "    <tr style=\"text-align: right;\">\n",
       "      <th></th>\n",
       "      <th>PassengerId</th>\n",
       "      <th>Survived</th>\n",
       "      <th>Sex</th>\n",
       "      <th>Age</th>\n",
       "      <th>SibSp</th>\n",
       "      <th>Parch</th>\n",
       "      <th>Fare</th>\n",
       "      <th>Embarked</th>\n",
       "    </tr>\n",
       "  </thead>\n",
       "  <tbody>\n",
       "    <tr>\n",
       "      <th>0</th>\n",
       "      <td>1</td>\n",
       "      <td>0</td>\n",
       "      <td>1</td>\n",
       "      <td>22.0</td>\n",
       "      <td>1</td>\n",
       "      <td>0</td>\n",
       "      <td>7.2500</td>\n",
       "      <td>2</td>\n",
       "    </tr>\n",
       "    <tr>\n",
       "      <th>1</th>\n",
       "      <td>2</td>\n",
       "      <td>1</td>\n",
       "      <td>0</td>\n",
       "      <td>38.0</td>\n",
       "      <td>1</td>\n",
       "      <td>0</td>\n",
       "      <td>71.2833</td>\n",
       "      <td>0</td>\n",
       "    </tr>\n",
       "    <tr>\n",
       "      <th>2</th>\n",
       "      <td>3</td>\n",
       "      <td>1</td>\n",
       "      <td>0</td>\n",
       "      <td>26.0</td>\n",
       "      <td>0</td>\n",
       "      <td>0</td>\n",
       "      <td>7.9250</td>\n",
       "      <td>2</td>\n",
       "    </tr>\n",
       "    <tr>\n",
       "      <th>3</th>\n",
       "      <td>4</td>\n",
       "      <td>1</td>\n",
       "      <td>0</td>\n",
       "      <td>35.0</td>\n",
       "      <td>1</td>\n",
       "      <td>0</td>\n",
       "      <td>53.1000</td>\n",
       "      <td>2</td>\n",
       "    </tr>\n",
       "    <tr>\n",
       "      <th>4</th>\n",
       "      <td>5</td>\n",
       "      <td>0</td>\n",
       "      <td>1</td>\n",
       "      <td>35.0</td>\n",
       "      <td>0</td>\n",
       "      <td>0</td>\n",
       "      <td>8.0500</td>\n",
       "      <td>2</td>\n",
       "    </tr>\n",
       "    <tr>\n",
       "      <th>...</th>\n",
       "      <td>...</td>\n",
       "      <td>...</td>\n",
       "      <td>...</td>\n",
       "      <td>...</td>\n",
       "      <td>...</td>\n",
       "      <td>...</td>\n",
       "      <td>...</td>\n",
       "      <td>...</td>\n",
       "    </tr>\n",
       "    <tr>\n",
       "      <th>886</th>\n",
       "      <td>887</td>\n",
       "      <td>0</td>\n",
       "      <td>1</td>\n",
       "      <td>27.0</td>\n",
       "      <td>0</td>\n",
       "      <td>0</td>\n",
       "      <td>13.0000</td>\n",
       "      <td>2</td>\n",
       "    </tr>\n",
       "    <tr>\n",
       "      <th>887</th>\n",
       "      <td>888</td>\n",
       "      <td>1</td>\n",
       "      <td>0</td>\n",
       "      <td>19.0</td>\n",
       "      <td>0</td>\n",
       "      <td>0</td>\n",
       "      <td>30.0000</td>\n",
       "      <td>2</td>\n",
       "    </tr>\n",
       "    <tr>\n",
       "      <th>888</th>\n",
       "      <td>889</td>\n",
       "      <td>0</td>\n",
       "      <td>0</td>\n",
       "      <td>28.0</td>\n",
       "      <td>1</td>\n",
       "      <td>2</td>\n",
       "      <td>23.4500</td>\n",
       "      <td>2</td>\n",
       "    </tr>\n",
       "    <tr>\n",
       "      <th>889</th>\n",
       "      <td>890</td>\n",
       "      <td>1</td>\n",
       "      <td>1</td>\n",
       "      <td>26.0</td>\n",
       "      <td>0</td>\n",
       "      <td>0</td>\n",
       "      <td>30.0000</td>\n",
       "      <td>0</td>\n",
       "    </tr>\n",
       "    <tr>\n",
       "      <th>890</th>\n",
       "      <td>891</td>\n",
       "      <td>0</td>\n",
       "      <td>1</td>\n",
       "      <td>32.0</td>\n",
       "      <td>0</td>\n",
       "      <td>0</td>\n",
       "      <td>7.7500</td>\n",
       "      <td>1</td>\n",
       "    </tr>\n",
       "  </tbody>\n",
       "</table>\n",
       "<p>891 rows × 8 columns</p>\n",
       "</div>"
      ],
      "text/plain": [
       "     PassengerId  Survived  Sex   Age  SibSp  Parch     Fare  Embarked\n",
       "0              1         0    1  22.0      1      0   7.2500         2\n",
       "1              2         1    0  38.0      1      0  71.2833         0\n",
       "2              3         1    0  26.0      0      0   7.9250         2\n",
       "3              4         1    0  35.0      1      0  53.1000         2\n",
       "4              5         0    1  35.0      0      0   8.0500         2\n",
       "..           ...       ...  ...   ...    ...    ...      ...       ...\n",
       "886          887         0    1  27.0      0      0  13.0000         2\n",
       "887          888         1    0  19.0      0      0  30.0000         2\n",
       "888          889         0    0  28.0      1      2  23.4500         2\n",
       "889          890         1    1  26.0      0      0  30.0000         0\n",
       "890          891         0    1  32.0      0      0   7.7500         1\n",
       "\n",
       "[891 rows x 8 columns]"
      ]
     },
     "metadata": {},
     "output_type": "display_data"
    }
   ],
   "source": [
    "from IPython.display import display\n",
    "\n",
    "display()"
   ]
  },
  {
   "cell_type": "code",
   "execution_count": 24,
   "metadata": {},
   "outputs": [
    {
     "data": {
      "text/plain": [
       "0      3\n",
       "1      1\n",
       "2      3\n",
       "3      1\n",
       "4      3\n",
       "      ..\n",
       "886    2\n",
       "887    1\n",
       "888    3\n",
       "889    1\n",
       "890    3\n",
       "Name: Pclass, Length: 891, dtype: int64"
      ]
     },
     "metadata": {},
     "output_type": "display_data"
    }
   ],
   "source": [
    "display(df_y)"
   ]
  },
  {
   "cell_type": "code",
   "execution_count": 25,
   "metadata": {},
   "outputs": [],
   "source": [
    "def visualize_dataset(train_dl, test_dl):\n",
    "    print(f\"Train size:{len(train_dl.dataset)}\") \n",
    "    print(f\"Test size:{len(test_dl.dataset)}\")\n",
    "    x, y = next(iter())\n",
    "    print(f\"Shape tensor train data batch - input: {x.shape}, output: {y.shape}\")\n",
    "    x, y = next(iter())  \n",
    "    print(f\"Shape tensor test data batch - input: {x.shape}, output: {y.shape}\")"
   ]
  },
  {
   "cell_type": "code",
   "execution_count": 26,
   "metadata": {},
   "outputs": [
    {
     "name": "stdout",
     "output_type": "stream",
     "text": [
      "Train size:597\n",
      "Test size:294\n",
      "Shape tensor train data batch - input: torch.Size([597, 8]), output: torch.Size([597])\n",
      "Shape tensor test data batch - input: torch.Size([294, 8]), output: torch.Size([294])\n"
     ]
    }
   ],
   "source": [
    "visualize_dataset(, )"
   ]
  },
  {
   "cell_type": "code",
   "execution_count": 27,
   "metadata": {},
   "outputs": [],
   "source": [
    "def visualize_holdout_balance(train_dl, test_dl):\n",
    "    _, y_train = next(iter(train_dl))                            \n",
    "    _, y_test = next(iter(test_dl))\n",
    "    \n",
    "    sns.set_style('whitegrid')\n",
    "    train_df = len(y_train) \n",
    "    test_df = len(y_test)\n",
    "    Class_1_train = np.count_nonzero(y_train ==\n",
    "    Class_2_train = np.count_nonzero(y_train ==\n",
    "    Class_3_train = np.count_nonzero(y_train ==\n",
    "    print(\"train data: \", train_df)\n",
    "    print(\"Class 1: \", Class_1_train) \n",
    "    print(\"Class 2: \", Class_2_train)\n",
    "    print(\"Class 3: \", Class_3_train)\n",
    "    print(\"Values' mean (train): \", np.mean(y_train.numpy()))\n",
    "\n",
    "    Class_1_test = np.count_nonzero(y_test ==\n",
    "    Class_2_test = np.count_nonzero(y_test ==\n",
    "    Class_3_test = np.count_nonzero(y_test ==\n",
    "    print(\"test data: \", test_df)\n",
    "    print(\"Class 1: \", Class_1_test) \n",
    "    print(\"Class 2: \", Class_2_test)\n",
    "    print(\"Class 3: \", Class_3_test)\n",
    "    print(\"Values' mean (test): \", np.mean(y_test.numpy()))\n",
    "\n",
    "    graph = sns.barplot(x=['Class 1 train', 'Class 2 train', 'Class 3 train',\n",
    "                           'Class 1 test', 'Class 2 test', 'Class 3 test'], \n",
    "                        y=[Class_1_train, Class_2_train, Class_3_train,\n",
    "                           Class_1_test, Class_2_test, Class_3_test])\n",
    "    \n",
    "    graph.set_title('Data balance by class')\n",
    "    plt.xticks(rotation=70)\n",
    "    plt.tight_layout()\n",
    "    plt.savefig(\n",
    "    plt.show() \n",
    "\n",
    "    graph = sns.barplot(x=['Train data average','Test data average'], \n",
    "                        y=[np.mean(y_train.numpy()), np.mean(y_test.numpy())])\n",
    "    graph.set_title('Data balance by mean')\n",
    "    plt.xticks(rotation=70)\n",
    "    plt.tight_layout()\n",
    "    plt.show() "
   ]
  },
  {
   "cell_type": "code",
   "execution_count": 28,
   "metadata": {},
   "outputs": [
    {
     "name": "stdout",
     "output_type": "stream",
     "text": [
      "train data:  597\n",
      "Class 1:  145\n",
      "Class 2:  115\n",
      "Class 3:  337\n",
      "Values' mean (train):  1.321608040201005\n",
      "test data:  294\n",
      "Class 1:  71\n",
      "Class 2:  69\n",
      "Class 3:  154\n",
      "Values' mean (test):  1.282312925170068\n"
     ]
    },
    {
     "data": {
      "image/png": "[encoded data removed]",
      "text/plain": [
       "<Figure size 640x480 with 1 Axes>"
      ]
     },
     "metadata": {},
     "output_type": "display_data"
    },
    {
     "data": {
      "image/png": "[encoded data removed]",
      "text/plain": [
       "<Figure size 640x480 with 1 Axes>"
      ]
     },
     "metadata": {},
     "output_type": "display_data"
    }
   ],
   "source": [
    "visualize_holdout_balance(, )"
   ]
  },
  {
   "cell_type": "markdown",
   "metadata": {},
   "source": [
    "#### MLP Model 1"
   ]
  },
  {
   "cell_type": "code",
   "execution_count": 29,
   "metadata": {},
   "outputs": [],
   "source": [
    "EPOCHS = \n",
    "LEARNING_RATE = "
   ]
  },
  {
   "cell_type": "code",
   "execution_count": 30,
   "metadata": {},
   "outputs": [],
   "source": [
    "from torch.nn import Module, Linear, ReLU, Softmax, Sigmoid\n",
    "from torch.nn.init import xavier_uniform_, kaiming_uniform_\n",
    "\n",
    "class MLP_1(Module):\n",
    "    def __init__(self, n_inputs):\n",
    "        super(MLP_1, self).__init__()\n",
    "        self.hidden1 = Linear(n_inputs, )\n",
    "        kaiming_uniform_(self.hidden1.weight, nonlinearity='relu')\n",
    "        self.act1 = ReLU()\n",
    "        self.hidden2 = Linear(, )\n",
    "        kaiming_uniform_(self.hidden2.weight, nonlinearity='relu')\n",
    "        self.act2 = ReLU()\n",
    "        self.hidden3 = Linear(, )\n",
    "        xavier_uniform_(self.hidden3.weight)\n",
    "        self.act3 = Softmax(dim=)\n",
    " \n",
    "    def forward(self, X):\n",
    "        X = self.hidden1(X)\n",
    "        X = self.act1(X)\n",
    "        X = self.hidden2(X)\n",
    "        X = self.act2(X)\n",
    "        X = self.hidden3(X)\n",
    "        X = self.act3(X)\n",
    "        return X"
   ]
  },
  {
   "cell_type": "markdown",
   "metadata": {},
   "source": [
    "Define the neural network"
   ]
  },
  {
   "cell_type": "code",
   "execution_count": 31,
   "metadata": {},
   "outputs": [],
   "source": [
    "model = MLP_1()"
   ]
  },
  {
   "cell_type": "markdown",
   "metadata": {},
   "source": [
    "Visualize the network"
   ]
  },
  {
   "cell_type": "code",
   "execution_count": 32,
   "metadata": {},
   "outputs": [
    {
     "name": "stdout",
     "output_type": "stream",
     "text": [
      "==========================================================================================\n",
      "Layer (type:depth-idx)                   Output Shape              Param #\n",
      "==========================================================================================\n",
      "MLP_1                                    [597, 3]                  --\n",
      "├─Linear: 1-1                            [597, 24]                 216\n",
      "├─ReLU: 1-2                              [597, 24]                 --\n",
      "├─Linear: 1-3                            [597, 12]                 300\n",
      "├─ReLU: 1-4                              [597, 12]                 --\n",
      "├─Linear: 1-5                            [597, 3]                  39\n",
      "├─Softmax: 1-6                           [597, 3]                  --\n",
      "==========================================================================================\n",
      "Total params: 555\n",
      "Trainable params: 555\n",
      "Non-trainable params: 0\n",
      "Total mult-adds (Units.MEGABYTES): 0.33\n",
      "==========================================================================================\n",
      "Input size (MB): 0.02\n",
      "Forward/backward pass size (MB): 0.19\n",
      "Params size (MB): 0.00\n",
      "Estimated Total Size (MB): 0.21\n",
      "==========================================================================================\n"
     ]
    },
    {
     "data": {
      "text/plain": [
       "MLP_1(\n",
       "  (hidden1): Linear(in_features=8, out_features=24, bias=True)\n",
       "  (act1): ReLU()\n",
       "  (hidden2): Linear(in_features=24, out_features=12, bias=True)\n",
       "  (act2): ReLU()\n",
       "  (hidden3): Linear(in_features=12, out_features=3, bias=True)\n",
       "  (act3): Softmax(dim=1)\n",
       ")"
      ]
     },
     "execution_count": 32,
     "metadata": {},
     "output_type": "execute_result"
    }
   ],
   "source": [
    "from torchinfo import summary\n",
    "\n",
    "print(summary(model, input_size=(len(train_dl.dataset), 8), verbose=0))\n",
    "model.to(device)"
   ]
  },
  {
   "cell_type": "markdown",
   "metadata": {},
   "source": [
    "### Model 1 settings: Epochs=, LR=0., Softmax-3, CEL, SGD"
   ]
  },
  {
   "cell_type": "markdown",
   "metadata": {},
   "source": [
    "#### Train the model"
   ]
  },
  {
   "cell_type": "code",
   "execution_count": 33,
   "metadata": {},
   "outputs": [],
   "source": [
    "from livelossplot import PlotLosses\n",
    "from torch.nn import CrossEntropyLoss, MSELoss\n",
    "from torch.optim import SGD, Adam\n",
    "\n",
    "def train_model(train_dl, val_dl, model):\n",
    "    liveloss = PlotLosses()\n",
    "    \n",
    "    criterion = ()\n",
    "    optimizer = (model.parameters(), lr=LEARNING_RATE, momentum=0.9)\n",
    "    \n",
    "    for epoch in range(EPOCHS):\n",
    "        logs = {}\n",
    "        model.train()\n",
    "        running_loss  = 0.0\n",
    "        running_corrects  = 0.0\n",
    "        for inputs, labels in train_dl:\n",
    "            inputs = inputs.to(device)\n",
    "            labels = labels.to(device)\n",
    "            \n",
    "            outputs = model(inputs)\n",
    "            \n",
    "            loss = criterion(outputs, labels)\n",
    "            optimizer.zero_grad()\n",
    "            \n",
    "            loss.()\n",
    "            optimizer.step()\n",
    "            \n",
    "            running_loss += loss.detach() * inputs.size(0)\n",
    "            _, preds = torch.max(outputs, 1)\n",
    "            running_corrects += torch.sum(preds == labels.data)\n",
    "        epoch_loss = running_loss / len(train_dl.dataset)\n",
    "        epoch_acc = running_corrects.float() / len(train_dl.dataset)\n",
    "        logs['loss'] = epoch_loss.item()\n",
    "        logs['accuracy'] = epoch_acc.item()\n",
    "\n",
    "        model.eval()\n",
    "        running_loss  = 0.0\n",
    "        running_corrects  = 0.0\n",
    "        for inputs, labels in val_dl: \n",
    "            inputs = inputs.to(device)\n",
    "            labels = labels.to(device)\n",
    "            outputs = model(inputs)\n",
    "            loss = criterion(outputs, labels)\n",
    "            running_loss += loss.detach() * inputs.size(0)\n",
    "            _, preds = torch.max(outputs, 1)\n",
    "            running_corrects += torch.sum(preds == labels.data)\n",
    "        epoch_loss = running_loss / len(val_dl.dataset)\n",
    "        epoch_acc = running_corrects.float() / len(val_dl.dataset)\n",
    "        logs['val_loss'] = epoch_loss.item()\n",
    "        logs['val_accuracy'] = epoch_acc.item()   \n",
    "        liveloss.update(logs)\n",
    "        liveloss.send()"
   ]
  },
  {
   "cell_type": "code",
   "execution_count": 34,
   "metadata": {},
   "outputs": [
    {
     "data": {
      "image/png": "[encoded data removed]",
      "text/plain": [
       "<Figure size 1200x800 with 2 Axes>"
      ]
     },
     "metadata": {},
     "output_type": "display_data"
    },
    {
     "name": "stdout",
     "output_type": "stream",
     "text": [
      "accuracy\n",
      "\ttraining         \t (min:    0.568, max:    0.653, cur:    0.568)\n",
      "\tvalidation       \t (min:    0.520, max:    0.602, cur:    0.527)\n",
      "Loss\n",
      "\ttraining         \t (min:    0.895, max:    0.984, cur:    0.984)\n",
      "\tvalidation       \t (min:    0.953, max:    1.027, cur:    1.024)\n"
     ]
    }
   ],
   "source": [
    "train_model(, , model)"
   ]
  },
  {
   "cell_type": "markdown",
   "metadata": {},
   "source": [
    "#### Evaluate the model"
   ]
  },
  {
   "cell_type": "code",
   "execution_count": 35,
   "metadata": {},
   "outputs": [],
   "source": [
    "def evaluate_model(, model):\n",
    "    predictions = list()\n",
    "    actual_values = list()\n",
    "    for i, (inputs, labels) in enumerate(test_dl):\n",
    "        yprev = model(inputs)\n",
    "        yprev = yprev.detach().numpy()\n",
    "        actual = labels.numpy()\n",
    "        yprev = np.argmax(yprev, axis=1)\n",
    "        actual = actual.reshape((len(actual), 1))\n",
    "        yprev = yprev.reshape((len(yprev), 1))\n",
    "        predictions.append(yprev)\n",
    "        actual_values.append(actual)\n",
    "        break\n",
    "    predictions, actual_values = np.vstack(predictions), np.vstack(actual_values)"
   ]
  },
  {
   "cell_type": "code",
   "execution_count": 36,
   "metadata": {},
   "outputs": [],
   "source": [
    "def display_confusion_matrix(cm):\n",
    "    plt.figure(figsize = (16,8))\n",
    "    sns.heatmap(, annot=True, xticklabels=['Class 1', 'Class 2', 'Class 3'],\n",
    "                yticklabels=['Class 1', 'Class 2', 'Class 3'], \n",
    "                annot_kws={\"size\": 12}, fmt='g', linewidths=.5)\n",
    "    plt.ylabel('True label')\n",
    "    plt.xlabel('Predicted label')\n",
    "    plt.show() "
   ]
  },
  {
   "cell_type": "code",
   "execution_count": 37,
   "metadata": {},
   "outputs": [],
   "source": [
    "predictions, actual_values = evaluate_model(, model)"
   ]
  },
  {
   "cell_type": "code",
   "execution_count": 38,
   "metadata": {},
   "outputs": [
    {
     "name": "stdout",
     "output_type": "stream",
     "text": [
      "real:[3] prediction:[3]\n",
      "real:[2] prediction:[3]\n",
      "real:[2] prediction:[3]\n",
      "real:[2] prediction:[3]\n",
      "real:[3] prediction:[3]\n",
      "real:[2] prediction:[3]\n",
      "real:[2] prediction:[3]\n",
      "real:[3] prediction:[3]\n",
      "real:[1] prediction:[3]\n",
      "real:[3] prediction:[3]\n",
      "real:[3] prediction:[3]\n",
      "real:[2] prediction:[3]\n",
      "real:[3] prediction:[3]\n",
      "real:[3] prediction:[3]\n",
      "real:[3] prediction:[3]\n",
      "real:[3] prediction:[3]\n",
      "real:[2] prediction:[3]\n",
      "real:[3] prediction:[3]\n",
      "real:[1] prediction:[3]\n",
      "real:[3] prediction:[3]\n",
      "real:[2] prediction:[3]\n",
      "real:[2] prediction:[3]\n",
      "real:[1] prediction:[3]\n",
      "real:[3] prediction:[3]\n",
      "real:[3] prediction:[3]\n",
      "real:[3] prediction:[3]\n",
      "real:[3] prediction:[3]\n",
      "real:[1] prediction:[3]\n",
      "real:[1] prediction:[3]\n",
      "real:[3] prediction:[3]\n",
      "real:[2] prediction:[3]\n",
      "real:[3] prediction:[3]\n",
      "real:[2] prediction:[3]\n",
      "real:[3] prediction:[3]\n",
      "real:[3] prediction:[3]\n",
      "real:[2] prediction:[3]\n",
      "real:[3] prediction:[3]\n",
      "real:[1] prediction:[3]\n",
      "real:[2] prediction:[3]\n",
      "real:[3] prediction:[3]\n",
      "real:[2] prediction:[3]\n",
      "real:[2] prediction:[3]\n",
      "real:[1] prediction:[3]\n",
      "real:[3] prediction:[3]\n",
      "real:[1] prediction:[3]\n",
      "real:[3] prediction:[3]\n",
      "real:[1] prediction:[3]\n",
      "real:[3] prediction:[3]\n",
      "real:[3] prediction:[3]\n",
      "real:[1] prediction:[3]\n",
      "real:[3] prediction:[3]\n",
      "real:[1] prediction:[3]\n",
      "real:[1] prediction:[3]\n",
      "real:[3] prediction:[3]\n",
      "real:[3] prediction:[3]\n",
      "real:[2] prediction:[3]\n",
      "real:[1] prediction:[3]\n",
      "real:[2] prediction:[3]\n",
      "real:[3] prediction:[3]\n",
      "real:[2] prediction:[3]\n",
      "real:[3] prediction:[3]\n",
      "real:[2] prediction:[3]\n",
      "real:[3] prediction:[3]\n",
      "real:[1] prediction:[3]\n",
      "real:[2] prediction:[3]\n",
      "real:[1] prediction:[3]\n",
      "real:[2] prediction:[3]\n",
      "real:[1] prediction:[3]\n",
      "real:[3] prediction:[3]\n",
      "real:[3] prediction:[3]\n",
      "real:[3] prediction:[3]\n",
      "real:[1] prediction:[3]\n",
      "real:[3] prediction:[3]\n",
      "real:[3] prediction:[3]\n",
      "real:[3] prediction:[3]\n",
      "real:[3] prediction:[3]\n",
      "real:[2] prediction:[3]\n",
      "real:[1] prediction:[3]\n",
      "real:[3] prediction:[3]\n",
      "real:[2] prediction:[3]\n",
      "real:[2] prediction:[3]\n",
      "real:[1] prediction:[3]\n",
      "real:[3] prediction:[3]\n",
      "real:[3] prediction:[3]\n",
      "real:[1] prediction:[3]\n",
      "real:[3] prediction:[3]\n",
      "real:[1] prediction:[3]\n",
      "real:[1] prediction:[3]\n",
      "real:[3] prediction:[3]\n",
      "real:[1] prediction:[3]\n",
      "real:[3] prediction:[3]\n",
      "real:[3] prediction:[3]\n",
      "real:[3] prediction:[3]\n",
      "real:[3] prediction:[3]\n",
      "real:[1] prediction:[3]\n",
      "real:[2] prediction:[3]\n",
      "real:[1] prediction:[3]\n",
      "real:[3] prediction:[3]\n",
      "real:[3] prediction:[3]\n",
      "real:[3] prediction:[3]\n",
      "real:[1] prediction:[3]\n",
      "real:[1] prediction:[3]\n",
      "real:[3] prediction:[3]\n",
      "real:[3] prediction:[3]\n",
      "real:[1] prediction:[3]\n",
      "real:[1] prediction:[3]\n",
      "real:[3] prediction:[3]\n",
      "real:[1] prediction:[3]\n",
      "real:[1] prediction:[3]\n",
      "real:[3] prediction:[3]\n",
      "real:[1] prediction:[3]\n",
      "real:[2] prediction:[3]\n",
      "real:[3] prediction:[3]\n",
      "real:[2] prediction:[3]\n",
      "real:[1] prediction:[3]\n",
      "real:[3] prediction:[3]\n",
      "real:[3] prediction:[3]\n",
      "real:[3] prediction:[3]\n",
      "real:[2] prediction:[3]\n",
      "real:[3] prediction:[3]\n",
      "real:[3] prediction:[3]\n",
      "real:[3] prediction:[3]\n",
      "real:[1] prediction:[3]\n",
      "real:[3] prediction:[3]\n",
      "real:[1] prediction:[3]\n",
      "real:[3] prediction:[3]\n",
      "real:[2] prediction:[3]\n",
      "real:[2] prediction:[3]\n",
      "real:[1] prediction:[3]\n",
      "real:[3] prediction:[3]\n",
      "real:[3] prediction:[3]\n",
      "real:[3] prediction:[3]\n",
      "real:[3] prediction:[3]\n",
      "real:[3] prediction:[3]\n",
      "real:[3] prediction:[3]\n",
      "real:[3] prediction:[3]\n",
      "real:[2] prediction:[3]\n",
      "real:[3] prediction:[3]\n",
      "real:[1] prediction:[3]\n",
      "real:[1] prediction:[3]\n",
      "real:[1] prediction:[3]\n",
      "real:[1] prediction:[1]\n",
      "real:[3] prediction:[3]\n",
      "real:[3] prediction:[3]\n",
      "real:[3] prediction:[3]\n",
      "real:[2] prediction:[3]\n",
      "real:[2] prediction:[3]\n",
      "real:[3] prediction:[3]\n",
      "real:[3] prediction:[3]\n",
      "real:[2] prediction:[3]\n",
      "real:[2] prediction:[3]\n",
      "real:[3] prediction:[3]\n",
      "real:[2] prediction:[3]\n",
      "real:[2] prediction:[3]\n",
      "real:[2] prediction:[3]\n",
      "real:[2] prediction:[3]\n",
      "real:[3] prediction:[3]\n",
      "real:[1] prediction:[3]\n",
      "real:[3] prediction:[3]\n",
      "real:[2] prediction:[3]\n",
      "real:[2] prediction:[3]\n",
      "real:[3] prediction:[3]\n",
      "real:[1] prediction:[3]\n",
      "real:[2] prediction:[3]\n",
      "real:[2] prediction:[3]\n",
      "real:[1] prediction:[3]\n",
      "real:[3] prediction:[3]\n",
      "real:[1] prediction:[3]\n",
      "real:[2] prediction:[3]\n",
      "real:[3] prediction:[3]\n",
      "real:[3] prediction:[3]\n",
      "real:[3] prediction:[3]\n",
      "real:[1] prediction:[3]\n",
      "real:[3] prediction:[3]\n",
      "real:[1] prediction:[3]\n",
      "real:[1] prediction:[3]\n",
      "real:[3] prediction:[3]\n",
      "real:[2] prediction:[3]\n",
      "real:[2] prediction:[3]\n",
      "real:[3] prediction:[3]\n",
      "real:[1] prediction:[3]\n",
      "real:[3] prediction:[3]\n",
      "real:[3] prediction:[3]\n",
      "real:[2] prediction:[3]\n",
      "real:[3] prediction:[3]\n",
      "real:[2] prediction:[3]\n",
      "real:[2] prediction:[3]\n",
      "real:[3] prediction:[3]\n",
      "real:[2] prediction:[3]\n",
      "real:[1] prediction:[3]\n",
      "real:[3] prediction:[3]\n",
      "real:[1] prediction:[3]\n",
      "real:[3] prediction:[3]\n",
      "real:[3] prediction:[3]\n",
      "real:[3] prediction:[3]\n",
      "real:[3] prediction:[3]\n",
      "real:[2] prediction:[3]\n",
      "real:[3] prediction:[3]\n",
      "real:[3] prediction:[3]\n",
      "real:[1] prediction:[3]\n",
      "real:[3] prediction:[3]\n",
      "real:[2] prediction:[3]\n",
      "real:[3] prediction:[3]\n",
      "real:[2] prediction:[3]\n",
      "real:[3] prediction:[3]\n",
      "real:[2] prediction:[3]\n",
      "real:[3] prediction:[3]\n",
      "real:[3] prediction:[3]\n",
      "real:[3] prediction:[3]\n",
      "real:[1] prediction:[3]\n",
      "real:[1] prediction:[3]\n",
      "real:[3] prediction:[3]\n",
      "real:[3] prediction:[3]\n",
      "real:[2] prediction:[3]\n",
      "real:[1] prediction:[3]\n",
      "real:[3] prediction:[3]\n",
      "real:[3] prediction:[3]\n",
      "real:[3] prediction:[3]\n",
      "real:[1] prediction:[3]\n",
      "real:[1] prediction:[3]\n",
      "real:[2] prediction:[3]\n",
      "real:[1] prediction:[3]\n",
      "real:[1] prediction:[3]\n",
      "real:[1] prediction:[3]\n",
      "real:[3] prediction:[3]\n",
      "real:[3] prediction:[3]\n",
      "real:[3] prediction:[3]\n",
      "real:[3] prediction:[3]\n",
      "real:[3] prediction:[3]\n",
      "real:[3] prediction:[3]\n",
      "real:[3] prediction:[3]\n",
      "real:[2] prediction:[3]\n",
      "real:[2] prediction:[3]\n",
      "real:[3] prediction:[3]\n",
      "real:[1] prediction:[3]\n",
      "real:[3] prediction:[3]\n",
      "real:[3] prediction:[3]\n",
      "real:[3] prediction:[3]\n",
      "real:[3] prediction:[3]\n",
      "real:[1] prediction:[3]\n",
      "real:[3] prediction:[3]\n",
      "real:[3] prediction:[3]\n",
      "real:[3] prediction:[3]\n",
      "real:[2] prediction:[3]\n",
      "real:[1] prediction:[3]\n",
      "real:[3] prediction:[3]\n",
      "real:[2] prediction:[3]\n",
      "real:[3] prediction:[3]\n",
      "real:[3] prediction:[3]\n",
      "real:[3] prediction:[3]\n",
      "real:[3] prediction:[3]\n",
      "real:[3] prediction:[3]\n",
      "real:[3] prediction:[3]\n",
      "real:[3] prediction:[3]\n",
      "real:[3] prediction:[3]\n",
      "real:[3] prediction:[3]\n",
      "real:[1] prediction:[3]\n",
      "real:[3] prediction:[3]\n",
      "real:[3] prediction:[3]\n",
      "real:[1] prediction:[3]\n",
      "real:[3] prediction:[3]\n",
      "real:[2] prediction:[3]\n",
      "real:[1] prediction:[3]\n",
      "real:[3] prediction:[3]\n",
      "real:[3] prediction:[3]\n",
      "real:[3] prediction:[3]\n",
      "real:[3] prediction:[3]\n",
      "real:[3] prediction:[3]\n",
      "real:[2] prediction:[3]\n",
      "real:[2] prediction:[3]\n",
      "real:[1] prediction:[3]\n",
      "real:[3] prediction:[3]\n",
      "real:[2] prediction:[3]\n",
      "real:[2] prediction:[3]\n",
      "real:[3] prediction:[3]\n",
      "real:[1] prediction:[3]\n",
      "real:[3] prediction:[3]\n",
      "real:[3] prediction:[3]\n",
      "real:[3] prediction:[3]\n",
      "real:[3] prediction:[3]\n",
      "real:[3] prediction:[3]\n",
      "real:[3] prediction:[3]\n",
      "real:[1] prediction:[3]\n",
      "real:[1] prediction:[3]\n",
      "real:[2] prediction:[3]\n",
      "real:[3] prediction:[3]\n",
      "real:[1] prediction:[3]\n",
      "real:[1] prediction:[3]\n",
      "real:[3] prediction:[3]\n",
      "real:[3] prediction:[3]\n",
      "real:[2] prediction:[3]\n",
      "real:[3] prediction:[3]\n",
      "real:[2] prediction:[3]\n",
      "real:[2] prediction:[3]\n"
     ]
    }
   ],
   "source": [
    "success = 0\n",
    "failure = 0\n",
    "for r,p in zip(actual_values, predictions):\n",
    "    print(f'real:{r+1} prediction:{p+1}') \n",
    "    if r==p: success+=1  \n",
    "    else: failure+=1"
   ]
  },
  {
   "cell_type": "code",
   "execution_count": 39,
   "metadata": {},
   "outputs": [
    {
     "name": "stdout",
     "output_type": "stream",
     "text": [
      "Accuracy: 0.527\n",
      "\n",
      "success:155 failure:139\n"
     ]
    }
   ],
   "source": [
    "from sklearn.metrics import accuracy_score\n",
    "\n",
    "acc = accuracy_score(, predictions)\n",
    "print(f'Accuracy: {acc:0.3f}\\n')\n",
    "print(f'success:{success} failure:{failure}')"
   ]
  },
  {
   "cell_type": "code",
   "execution_count": null,
   "metadata": {},
   "outputs": [],
   "source": [
    "from sklearn.metrics import confusion_matrix, classification_report\n",
    "\n",
    "print(classification_report(actual_values, ))\n",
    "cm = confusion_matrix(actual_values, )\n",
    "print(cm)\n",
    "display_confusion_matrix(cm)"
   ]
  },
  {
   "cell_type": "markdown",
   "metadata": {},
   "source": [
    "#### Apply the model"
   ]
  },
  {
   "cell_type": "markdown",
   "metadata": {},
   "source": [
    "Make a prediction using one case:"
   ]
  },
  {
   "cell_type": "code",
   "execution_count": 41,
   "metadata": {},
   "outputs": [],
   "source": [
    "def predict(row, model):\n",
    "    row = Tensor([row])\n",
    "    yprev = model(row)\n",
    "    yprev = yprev.detach().numpy()\n",
    "    return "
   ]
  },
  {
   "cell_type": "code",
   "execution_count": 42,
   "metadata": {},
   "outputs": [
    {
     "name": "stdout",
     "output_type": "stream",
     "text": [
      "Predicted: [[0.01178731 0.00209614 0.9861166 ]] (class=3)\n"
     ]
    }
   ],
   "source": [
    "row = [5, 0, 1, 34, 0, 1, 8, 1]\n",
    "yprev = predict(row, model)\n",
    "print('Predicted: %s (class=%d)' % (yprev, np.argmax(yprev)+1))"
   ]
  }
 ],
 "metadata": {
  "kernelspec": {
   "display_name": "Python 3 (ipykernel)",
   "language": "python",
   "name": "python3"
  },
  "language_info": {
   "codemirror_mode": {
    "name": "ipython",
    "version": 3
   },
   "file_extension": ".py",
   "mimetype": "text/x-python",
   "name": "python",
   "nbconvert_exporter": "python",
   "pygments_lexer": "ipython3",
   "version": "3.12.4"
  }
 },
 "nbformat": 4,
 "nbformat_minor": 4
}
